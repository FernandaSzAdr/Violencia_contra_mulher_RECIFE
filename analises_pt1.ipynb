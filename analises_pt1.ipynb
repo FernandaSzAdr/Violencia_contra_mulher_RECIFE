{
 "cells": [
  {
   "cell_type": "markdown",
   "metadata": {
    "colab_type": "text",
    "id": "GvlbyxEOyuEj"
   },
   "source": [
    "### Se estiver rodando no Google Colab, executar essa linha:"
   ]
  },
  {
   "cell_type": "code",
   "execution_count": 9,
   "metadata": {
    "colab": {},
    "colab_type": "code",
    "id": "mLkE6hmiyGwR",
    "scrolled": true
   },
   "outputs": [
    {
     "name": "stdout",
     "output_type": "stream",
     "text": [
      "Cloning into 'violencia_contra_mulher_RECIFE'...\n",
      "remote: Enumerating objects: 119, done.\u001b[K\n",
      "remote: Counting objects: 100% (119/119), done.\u001b[K\n",
      "remote: Compressing objects: 100% (76/76), done.\u001b[K\n",
      "^Cceiving objects:  41% (49/119), 556.00 KiB | 319.00 KiB/s   \n"
     ]
    }
   ],
   "source": [
    "!git clone https://github.com/FernandaSzAdr/violencia_contra_mulher_RECIFE.git"
   ]
  },
  {
   "cell_type": "markdown",
   "metadata": {},
   "source": [
    "# Imports"
   ]
  },
  {
   "cell_type": "code",
   "execution_count": 1,
   "metadata": {
    "colab": {},
    "colab_type": "code",
    "id": "1kQbKUZsyCmK"
   },
   "outputs": [],
   "source": [
    "from datetime import datetime\n",
    "import matplotlib.pyplot as plt\n",
    "import numpy as np\n",
    "import pandas as pd\n",
    "from pathlib import Path\n",
    "import pickle\n",
    "import re\n",
    "import six\n",
    "%matplotlib inline"
   ]
  },
  {
   "cell_type": "markdown",
   "metadata": {
    "colab_type": "text",
    "id": "PWUndA9myCma"
   },
   "source": [
    "# Helpers"
   ]
  },
  {
   "cell_type": "markdown",
   "metadata": {},
   "source": [
    "##  Para salvar graficos"
   ]
  },
  {
   "cell_type": "code",
   "execution_count": 2,
   "metadata": {
    "colab": {},
    "colab_type": "code",
    "id": "QRTcO0wIyCmf"
   },
   "outputs": [],
   "source": [
    "def autolabel(rects, xpos='center', ax=None):\n",
    "    \"\"\"\n",
    "    Attach a text label above each bar in *rects*, displaying its height.\n",
    "\n",
    "    *xpos* indicates which side to place the text w.r.t. the center of\n",
    "    the bar. It can be one of the following {'center', 'right', 'left'}.\n",
    "    \"\"\"\n",
    "\n",
    "    ha = {'center': 'center', 'right': 'left', 'left': 'right'}\n",
    "    offset = {'center': 0, 'right': 1, 'left': -1}\n",
    "\n",
    "    for rect in rects:\n",
    "        height = rect.get_height()\n",
    "        ax.annotate('{}'.format(height),\n",
    "                    xy=(rect.get_x() + rect.get_width() / 2, height),\n",
    "                    xytext=(offset[xpos]*3, 3),  # use 3 points offset\n",
    "                    textcoords=\"offset points\",  # in both directions\n",
    "                    ha=ha[xpos], va='bottom')"
   ]
  },
  {
   "cell_type": "markdown",
   "metadata": {},
   "source": [
    "## Extrair informações do NPU"
   ]
  },
  {
   "cell_type": "code",
   "execution_count": 3,
   "metadata": {},
   "outputs": [],
   "source": [
    "def parse_npu(numero):\n",
    "    numero = u''.join(re.findall(r'\\d+', numero))\n",
    "    numero = numero.zfill(20)\n",
    "    return {\n",
    "        'sequencial': numero[0:7],\n",
    "        'digito': numero[7:9],\n",
    "        'ano': numero[9:13],\n",
    "        'justica': numero[13:14],\n",
    "        'tribunal': numero[14:16],\n",
    "        'origem': numero[16:20]\n",
    "    }"
   ]
  },
  {
   "cell_type": "code",
   "execution_count": 4,
   "metadata": {},
   "outputs": [],
   "source": [
    "def get_ano(numero):\n",
    "    if type(numero) != str:\n",
    "        numero = str(numero)\n",
    "    campos = parse_npu(numero)\n",
    "    return int(campos['ano'])"
   ]
  },
  {
   "cell_type": "markdown",
   "metadata": {
    "colab_type": "text",
    "id": "--QsMcDeyCmq"
   },
   "source": [
    "# Análises"
   ]
  },
  {
   "cell_type": "markdown",
   "metadata": {},
   "source": [
    "## Path do json"
   ]
  },
  {
   "cell_type": "code",
   "execution_count": 5,
   "metadata": {
    "colab": {},
    "colab_type": "code",
    "id": "5KzFI5AkyCmt"
   },
   "outputs": [],
   "source": [
    "processos_ouvidoria_path = 'database/processos_ouvidoria.json'\n",
    "processos_sequencial_path = 'database/processos_sequencial.json'"
   ]
  },
  {
   "cell_type": "markdown",
   "metadata": {
    "colab_type": "text",
    "id": "B3A6gDfryCm4"
   },
   "source": [
    "## Criação do DataFrame"
   ]
  },
  {
   "cell_type": "code",
   "execution_count": 6,
   "metadata": {
    "colab": {},
    "colab_type": "code",
    "id": "Tq7Yu8vIyCnF"
   },
   "outputs": [],
   "source": [
    "df_proc_ouv = pd.read_json(processos_ouvidoria_path)\n",
    "df_proc_seq = pd.read_json(processos_sequencial_path)"
   ]
  },
  {
   "cell_type": "markdown",
   "metadata": {},
   "source": [
    "### Informações sobre os dataframes"
   ]
  },
  {
   "cell_type": "code",
   "execution_count": 7,
   "metadata": {},
   "outputs": [
    {
     "name": "stdout",
     "output_type": "stream",
     "text": [
      "<class 'pandas.core.frame.DataFrame'>\n",
      "Int64Index: 9759 entries, 0 to 999\n",
      "Data columns (total 10 columns):\n",
      "numero            9759 non-null int64\n",
      "juizo             9759 non-null object\n",
      "classe_CNJ        9759 non-null object\n",
      "eletronico        9759 non-null bool\n",
      "comarca           9759 non-null object\n",
      "instancia         9759 non-null object\n",
      "estado            9759 non-null object\n",
      "andamentos_qtd    9759 non-null int64\n",
      "assuntos          9759 non-null object\n",
      "andamentos        9759 non-null object\n",
      "dtypes: bool(1), int64(2), object(7)\n",
      "memory usage: 772.0+ KB\n"
     ]
    }
   ],
   "source": [
    "df_proc_ouv.info()"
   ]
  },
  {
   "cell_type": "code",
   "execution_count": 8,
   "metadata": {},
   "outputs": [
    {
     "name": "stdout",
     "output_type": "stream",
     "text": [
      "<class 'pandas.core.frame.DataFrame'>\n",
      "Int64Index: 9460 entries, 0 to 999\n",
      "Data columns (total 10 columns):\n",
      "numero            9460 non-null int64\n",
      "juizo             9460 non-null object\n",
      "classe_CNJ        9460 non-null object\n",
      "eletronico        9460 non-null bool\n",
      "comarca           9460 non-null object\n",
      "instancia         9460 non-null object\n",
      "estado            9460 non-null object\n",
      "andamentos_qtd    9460 non-null int64\n",
      "assuntos          9460 non-null object\n",
      "andamentos        9460 non-null object\n",
      "dtypes: bool(1), int64(2), object(7)\n",
      "memory usage: 748.3+ KB\n"
     ]
    }
   ],
   "source": [
    "df_proc_seq.info()"
   ]
  },
  {
   "cell_type": "markdown",
   "metadata": {},
   "source": [
    "### Amostras dos dataframes"
   ]
  },
  {
   "cell_type": "code",
   "execution_count": 9,
   "metadata": {},
   "outputs": [
    {
     "data": {
      "text/html": [
       "<div>\n",
       "<style scoped>\n",
       "    .dataframe tbody tr th:only-of-type {\n",
       "        vertical-align: middle;\n",
       "    }\n",
       "\n",
       "    .dataframe tbody tr th {\n",
       "        vertical-align: top;\n",
       "    }\n",
       "\n",
       "    .dataframe thead th {\n",
       "        text-align: right;\n",
       "    }\n",
       "</style>\n",
       "<table border=\"1\" class=\"dataframe\">\n",
       "  <thead>\n",
       "    <tr style=\"text-align: right;\">\n",
       "      <th></th>\n",
       "      <th>numero</th>\n",
       "      <th>juizo</th>\n",
       "      <th>classe_CNJ</th>\n",
       "      <th>eletronico</th>\n",
       "      <th>comarca</th>\n",
       "      <th>instancia</th>\n",
       "      <th>estado</th>\n",
       "      <th>andamentos_qtd</th>\n",
       "      <th>assuntos</th>\n",
       "      <th>andamentos</th>\n",
       "    </tr>\n",
       "  </thead>\n",
       "  <tbody>\n",
       "    <tr>\n",
       "      <th>0</th>\n",
       "      <td>132120188170001</td>\n",
       "      <td>Primeira Vara de Violência Doméstica e Familia...</td>\n",
       "      <td>Ação Penal - Procedimento Sumário</td>\n",
       "      <td>False</td>\n",
       "      <td>Recife</td>\n",
       "      <td>1GRAU</td>\n",
       "      <td>PE</td>\n",
       "      <td>14</td>\n",
       "      <td>[Ameaça]</td>\n",
       "      <td>[{'complemento': 'Mandados', 'data': '19/03/20...</td>\n",
       "    </tr>\n",
       "    <tr>\n",
       "      <th>1</th>\n",
       "      <td>262020188170001</td>\n",
       "      <td>Terceira Vara de Violência Doméstica e Familia...</td>\n",
       "      <td>Medidas Protetivas de urgência (Lei Maria da P...</td>\n",
       "      <td>False</td>\n",
       "      <td>Recife</td>\n",
       "      <td>1GRAU</td>\n",
       "      <td>PE</td>\n",
       "      <td>11</td>\n",
       "      <td>[Decorrente de Violência Doméstica]</td>\n",
       "      <td>[{'complemento': '', 'data': '11/02/2019 11:09...</td>\n",
       "    </tr>\n",
       "    <tr>\n",
       "      <th>10</th>\n",
       "      <td>617720188170001</td>\n",
       "      <td>Primeira Vara de Violência Doméstica e Familia...</td>\n",
       "      <td>Medidas Protetivas de urgência (Lei Maria da P...</td>\n",
       "      <td>False</td>\n",
       "      <td>Recife</td>\n",
       "      <td>1GRAU</td>\n",
       "      <td>PE</td>\n",
       "      <td>14</td>\n",
       "      <td>[Ameaça]</td>\n",
       "      <td>[{'complemento': 'Ministério Público', 'data':...</td>\n",
       "    </tr>\n",
       "    <tr>\n",
       "      <th>100</th>\n",
       "      <td>5606120188170001</td>\n",
       "      <td>Segunda Vara de Violência Doméstica e Familiar...</td>\n",
       "      <td>Medidas Protetivas de urgência (Lei Maria da P...</td>\n",
       "      <td>False</td>\n",
       "      <td>Recife</td>\n",
       "      <td>1GRAU</td>\n",
       "      <td>PE</td>\n",
       "      <td>11</td>\n",
       "      <td>[Injúria]</td>\n",
       "      <td>[{'complemento': 'Ofício Entregue', 'data': '1...</td>\n",
       "    </tr>\n",
       "    <tr>\n",
       "      <th>1000</th>\n",
       "      <td>166911420188170016</td>\n",
       "      <td>Primeira Vara de Violência Doméstica e Familia...</td>\n",
       "      <td>Medidas Protetivas de urgência (Lei Maria da P...</td>\n",
       "      <td>False</td>\n",
       "      <td>Recife</td>\n",
       "      <td>1GRAU</td>\n",
       "      <td>PE</td>\n",
       "      <td>7</td>\n",
       "      <td>[Violência Doméstica Contra a Mulher, Injúria,...</td>\n",
       "      <td>[{'complemento': 'Ciente nos autos', 'data': '...</td>\n",
       "    </tr>\n",
       "  </tbody>\n",
       "</table>\n",
       "</div>"
      ],
      "text/plain": [
       "                  numero                                              juizo  \\\n",
       "0        132120188170001  Primeira Vara de Violência Doméstica e Familia...   \n",
       "1        262020188170001  Terceira Vara de Violência Doméstica e Familia...   \n",
       "10       617720188170001  Primeira Vara de Violência Doméstica e Familia...   \n",
       "100     5606120188170001  Segunda Vara de Violência Doméstica e Familiar...   \n",
       "1000  166911420188170016  Primeira Vara de Violência Doméstica e Familia...   \n",
       "\n",
       "                                             classe_CNJ  eletronico comarca  \\\n",
       "0                     Ação Penal - Procedimento Sumário       False  Recife   \n",
       "1     Medidas Protetivas de urgência (Lei Maria da P...       False  Recife   \n",
       "10    Medidas Protetivas de urgência (Lei Maria da P...       False  Recife   \n",
       "100   Medidas Protetivas de urgência (Lei Maria da P...       False  Recife   \n",
       "1000  Medidas Protetivas de urgência (Lei Maria da P...       False  Recife   \n",
       "\n",
       "     instancia estado  andamentos_qtd  \\\n",
       "0        1GRAU     PE              14   \n",
       "1        1GRAU     PE              11   \n",
       "10       1GRAU     PE              14   \n",
       "100      1GRAU     PE              11   \n",
       "1000     1GRAU     PE               7   \n",
       "\n",
       "                                               assuntos  \\\n",
       "0                                              [Ameaça]   \n",
       "1                   [Decorrente de Violência Doméstica]   \n",
       "10                                             [Ameaça]   \n",
       "100                                           [Injúria]   \n",
       "1000  [Violência Doméstica Contra a Mulher, Injúria,...   \n",
       "\n",
       "                                             andamentos  \n",
       "0     [{'complemento': 'Mandados', 'data': '19/03/20...  \n",
       "1     [{'complemento': '', 'data': '11/02/2019 11:09...  \n",
       "10    [{'complemento': 'Ministério Público', 'data':...  \n",
       "100   [{'complemento': 'Ofício Entregue', 'data': '1...  \n",
       "1000  [{'complemento': 'Ciente nos autos', 'data': '...  "
      ]
     },
     "execution_count": 9,
     "metadata": {},
     "output_type": "execute_result"
    }
   ],
   "source": [
    "df_proc_seq.head()"
   ]
  },
  {
   "cell_type": "code",
   "execution_count": 10,
   "metadata": {},
   "outputs": [
    {
     "data": {
      "text/html": [
       "<div>\n",
       "<style scoped>\n",
       "    .dataframe tbody tr th:only-of-type {\n",
       "        vertical-align: middle;\n",
       "    }\n",
       "\n",
       "    .dataframe tbody tr th {\n",
       "        vertical-align: top;\n",
       "    }\n",
       "\n",
       "    .dataframe thead th {\n",
       "        text-align: right;\n",
       "    }\n",
       "</style>\n",
       "<table border=\"1\" class=\"dataframe\">\n",
       "  <thead>\n",
       "    <tr style=\"text-align: right;\">\n",
       "      <th></th>\n",
       "      <th>numero</th>\n",
       "      <th>juizo</th>\n",
       "      <th>classe_CNJ</th>\n",
       "      <th>eletronico</th>\n",
       "      <th>comarca</th>\n",
       "      <th>instancia</th>\n",
       "      <th>estado</th>\n",
       "      <th>andamentos_qtd</th>\n",
       "      <th>assuntos</th>\n",
       "      <th>andamentos</th>\n",
       "    </tr>\n",
       "  </thead>\n",
       "  <tbody>\n",
       "    <tr>\n",
       "      <th>0</th>\n",
       "      <td>1774826420128169984</td>\n",
       "      <td>Segunda Vara de Violência Doméstica e Familiar...</td>\n",
       "      <td>Inquérito Policial</td>\n",
       "      <td>False</td>\n",
       "      <td>Recife</td>\n",
       "      <td>1GRAU</td>\n",
       "      <td>PE</td>\n",
       "      <td>4</td>\n",
       "      <td>[Crimes Previstos no Estatuto do Idoso]</td>\n",
       "      <td>[{'complemento': 'Central de Inquéritos', 'dat...</td>\n",
       "    </tr>\n",
       "    <tr>\n",
       "      <th>1</th>\n",
       "      <td>1736234020128169984</td>\n",
       "      <td>Segunda Vara de Violência Doméstica e Familiar...</td>\n",
       "      <td>Inquérito Policial</td>\n",
       "      <td>False</td>\n",
       "      <td>Recife</td>\n",
       "      <td>1GRAU</td>\n",
       "      <td>PE</td>\n",
       "      <td>22</td>\n",
       "      <td>[Crimes Previstos no Estatuto do Idoso]</td>\n",
       "      <td>[{'complemento': 'Central de Inquéritos', 'dat...</td>\n",
       "    </tr>\n",
       "    <tr>\n",
       "      <th>10</th>\n",
       "      <td>1544027620098170112</td>\n",
       "      <td>Terceira Vara de Violência Doméstica e Familia...</td>\n",
       "      <td>Ação Penal - Procedimento Sumário</td>\n",
       "      <td>False</td>\n",
       "      <td>Recife</td>\n",
       "      <td>1GRAU</td>\n",
       "      <td>PE</td>\n",
       "      <td>26</td>\n",
       "      <td>[Decorrente de Violência Doméstica, Violência ...</td>\n",
       "      <td>[{'complemento': '', 'data': '12/09/2018 10:23...</td>\n",
       "    </tr>\n",
       "    <tr>\n",
       "      <th>100</th>\n",
       "      <td>856377720148169984</td>\n",
       "      <td>Terceira Vara de Violência Doméstica e Familia...</td>\n",
       "      <td>Inquérito Policial</td>\n",
       "      <td>False</td>\n",
       "      <td>Recife</td>\n",
       "      <td>1GRAU</td>\n",
       "      <td>PE</td>\n",
       "      <td>14</td>\n",
       "      <td>[Ameaça]</td>\n",
       "      <td>[{'complemento': 'Ministério Público', 'data':...</td>\n",
       "    </tr>\n",
       "    <tr>\n",
       "      <th>1000</th>\n",
       "      <td>208506820168170016</td>\n",
       "      <td>Terceira Vara de Violência Doméstica e Familia...</td>\n",
       "      <td>Inquérito Policial</td>\n",
       "      <td>False</td>\n",
       "      <td>Recife</td>\n",
       "      <td>1GRAU</td>\n",
       "      <td>PE</td>\n",
       "      <td>9</td>\n",
       "      <td>[Violência Doméstica Contra a Mulher, Ameaça]</td>\n",
       "      <td>[{'complemento': '', 'data': '20/06/2019 13:21...</td>\n",
       "    </tr>\n",
       "  </tbody>\n",
       "</table>\n",
       "</div>"
      ],
      "text/plain": [
       "                   numero                                              juizo  \\\n",
       "0     1774826420128169984  Segunda Vara de Violência Doméstica e Familiar...   \n",
       "1     1736234020128169984  Segunda Vara de Violência Doméstica e Familiar...   \n",
       "10    1544027620098170112  Terceira Vara de Violência Doméstica e Familia...   \n",
       "100    856377720148169984  Terceira Vara de Violência Doméstica e Familia...   \n",
       "1000   208506820168170016  Terceira Vara de Violência Doméstica e Familia...   \n",
       "\n",
       "                             classe_CNJ  eletronico comarca instancia estado  \\\n",
       "0                    Inquérito Policial       False  Recife     1GRAU     PE   \n",
       "1                    Inquérito Policial       False  Recife     1GRAU     PE   \n",
       "10    Ação Penal - Procedimento Sumário       False  Recife     1GRAU     PE   \n",
       "100                  Inquérito Policial       False  Recife     1GRAU     PE   \n",
       "1000                 Inquérito Policial       False  Recife     1GRAU     PE   \n",
       "\n",
       "      andamentos_qtd                                           assuntos  \\\n",
       "0                  4            [Crimes Previstos no Estatuto do Idoso]   \n",
       "1                 22            [Crimes Previstos no Estatuto do Idoso]   \n",
       "10                26  [Decorrente de Violência Doméstica, Violência ...   \n",
       "100               14                                           [Ameaça]   \n",
       "1000               9      [Violência Doméstica Contra a Mulher, Ameaça]   \n",
       "\n",
       "                                             andamentos  \n",
       "0     [{'complemento': 'Central de Inquéritos', 'dat...  \n",
       "1     [{'complemento': 'Central de Inquéritos', 'dat...  \n",
       "10    [{'complemento': '', 'data': '12/09/2018 10:23...  \n",
       "100   [{'complemento': 'Ministério Público', 'data':...  \n",
       "1000  [{'complemento': '', 'data': '20/06/2019 13:21...  "
      ]
     },
     "execution_count": 10,
     "metadata": {},
     "output_type": "execute_result"
    }
   ],
   "source": [
    "df_proc_ouv.head()"
   ]
  },
  {
   "cell_type": "markdown",
   "metadata": {},
   "source": [
    "## Agrupando os dois DataFrames\n",
    "O DataFrame obtido gerando os npus sequencialmente e o DataFrame fornecido pelo TJPE"
   ]
  },
  {
   "cell_type": "code",
   "execution_count": 11,
   "metadata": {},
   "outputs": [],
   "source": [
    "df_total = pd.concat([df_proc_ouv, df_proc_seq],\n",
    "                     ignore_index=True)"
   ]
  },
  {
   "cell_type": "code",
   "execution_count": 12,
   "metadata": {},
   "outputs": [
    {
     "name": "stdout",
     "output_type": "stream",
     "text": [
      "<class 'pandas.core.frame.DataFrame'>\n",
      "RangeIndex: 19219 entries, 0 to 19218\n",
      "Data columns (total 10 columns):\n",
      "numero            19219 non-null int64\n",
      "juizo             19219 non-null object\n",
      "classe_CNJ        19219 non-null object\n",
      "eletronico        19219 non-null bool\n",
      "comarca           19219 non-null object\n",
      "instancia         19219 non-null object\n",
      "estado            19219 non-null object\n",
      "andamentos_qtd    19219 non-null int64\n",
      "assuntos          19219 non-null object\n",
      "andamentos        19219 non-null object\n",
      "dtypes: bool(1), int64(2), object(7)\n",
      "memory usage: 1.3+ MB\n"
     ]
    }
   ],
   "source": [
    "df_total.info()"
   ]
  },
  {
   "cell_type": "markdown",
   "metadata": {},
   "source": [
    "### Removendo NPUs duplicados"
   ]
  },
  {
   "cell_type": "code",
   "execution_count": 13,
   "metadata": {},
   "outputs": [],
   "source": [
    "df_total = df_total.drop_duplicates(subset='numero')"
   ]
  },
  {
   "cell_type": "code",
   "execution_count": 14,
   "metadata": {},
   "outputs": [
    {
     "name": "stdout",
     "output_type": "stream",
     "text": [
      "<class 'pandas.core.frame.DataFrame'>\n",
      "Int64Index: 13300 entries, 0 to 19216\n",
      "Data columns (total 10 columns):\n",
      "numero            13300 non-null int64\n",
      "juizo             13300 non-null object\n",
      "classe_CNJ        13300 non-null object\n",
      "eletronico        13300 non-null bool\n",
      "comarca           13300 non-null object\n",
      "instancia         13300 non-null object\n",
      "estado            13300 non-null object\n",
      "andamentos_qtd    13300 non-null int64\n",
      "assuntos          13300 non-null object\n",
      "andamentos        13300 non-null object\n",
      "dtypes: bool(1), int64(2), object(7)\n",
      "memory usage: 1.0+ MB\n"
     ]
    }
   ],
   "source": [
    "df_total.info()"
   ]
  },
  {
   "cell_type": "markdown",
   "metadata": {},
   "source": [
    "## NPUs Ouvidoria"
   ]
  },
  {
   "cell_type": "code",
   "execution_count": 70,
   "metadata": {},
   "outputs": [],
   "source": [
    "dict_qtd_esperado_recife = pickle.load(\n",
    "    open('database/dict_anos_recife_ouvidoria.pickle', 'rb'))"
   ]
  },
  {
   "cell_type": "markdown",
   "metadata": {},
   "source": [
    "### Qtd de processos esperados"
   ]
  },
  {
   "cell_type": "code",
   "execution_count": 71,
   "metadata": {},
   "outputs": [
    {
     "data": {
      "text/plain": [
       "{2015: 3590,\n",
       " 2013: 3416,\n",
       " 2014: 3244,\n",
       " 2018: 2887,\n",
       " 2012: 2616,\n",
       " 2010: 2477,\n",
       " 2016: 2460,\n",
       " 2011: 2315,\n",
       " 2017: 2314,\n",
       " 2009: 1716,\n",
       " 2008: 490,\n",
       " 2007: 221,\n",
       " 2006: 26,\n",
       " 2005: 1,\n",
       " 2004: 1}"
      ]
     },
     "execution_count": 71,
     "metadata": {},
     "output_type": "execute_result"
    }
   ],
   "source": [
    "dict_qtd_esperado_recife"
   ]
  },
  {
   "cell_type": "code",
   "execution_count": 72,
   "metadata": {},
   "outputs": [],
   "source": [
    "anos_esperados = sorted(dict_qtd_esperado_recife.keys())\n",
    "qtd_anos_esperados = [dict_qtd_esperado_recife[i] for i in anos_esperados]"
   ]
  },
  {
   "cell_type": "markdown",
   "metadata": {},
   "source": [
    "### Qtd de processos obtidos"
   ]
  },
  {
   "cell_type": "code",
   "execution_count": 73,
   "metadata": {},
   "outputs": [],
   "source": [
    "anos = np.array(df_proc_ouv['numero'].apply(get_ano))\n",
    "npus = np.array(df_proc_ouv['numero'])"
   ]
  },
  {
   "cell_type": "code",
   "execution_count": 74,
   "metadata": {},
   "outputs": [],
   "source": [
    "df_npu_recife = pd.DataFrame({'npu': npus, 'ano': anos})"
   ]
  },
  {
   "cell_type": "code",
   "execution_count": 75,
   "metadata": {},
   "outputs": [],
   "source": [
    "dict_qtd_obtida_recife = dict(df_npu_recife['ano'].value_counts())"
   ]
  },
  {
   "cell_type": "code",
   "execution_count": 76,
   "metadata": {},
   "outputs": [
    {
     "data": {
      "text/plain": [
       "{2018: 2183,\n",
       " 2015: 1464,\n",
       " 2017: 1303,\n",
       " 2016: 1065,\n",
       " 2014: 1027,\n",
       " 2013: 774,\n",
       " 2012: 728,\n",
       " 2011: 487,\n",
       " 2010: 385,\n",
       " 2009: 163,\n",
       " 2008: 113,\n",
       " 2007: 62,\n",
       " 2006: 4,\n",
       " 2005: 1}"
      ]
     },
     "execution_count": 76,
     "metadata": {},
     "output_type": "execute_result"
    }
   ],
   "source": [
    "dict_qtd_obtida_recife"
   ]
  },
  {
   "cell_type": "code",
   "execution_count": 77,
   "metadata": {},
   "outputs": [],
   "source": [
    "dict_qtd_obtida_recife[2004] = 0"
   ]
  },
  {
   "cell_type": "code",
   "execution_count": 78,
   "metadata": {},
   "outputs": [],
   "source": [
    "anos_obtidos = sorted(dict_qtd_obtida_recife.keys())\n",
    "qtd_anos_obtidos = [dict_qtd_obtida_recife[i] for i in anos_obtidos]"
   ]
  },
  {
   "cell_type": "markdown",
   "metadata": {},
   "source": [
    "### Grafico da distribuição de obtidos e de esperados"
   ]
  },
  {
   "cell_type": "code",
   "execution_count": 79,
   "metadata": {},
   "outputs": [
    {
     "data": {
      "image/png": "[encoded data removed]",
      "text/plain": [
       "<Figure size 1116x540 with 1 Axes>"
      ]
     },
     "metadata": {
      "needs_background": "light"
     },
     "output_type": "display_data"
    }
   ],
   "source": [
    "title = 'Processos_na_comarca_0001_(Recife)'\n",
    "\n",
    "ind = np.arange(len(anos_esperados))\n",
    "width = 0.40\n",
    "\n",
    "fig, ax = plt.subplots()\n",
    "rects1 = ax.bar(ind - width/2, qtd_anos_esperados, width, label='Esperados')\n",
    "rects2 = ax.bar(ind + width/2, qtd_anos_obtidos, width, label='Obtidos')\n",
    "\n",
    "ax.set_ylabel('Qtd. Processos'); ax.set_xticks(ind)\n",
    "ax.set_xticklabels(anos_esperados); ax.legend()\n",
    "autolabel(rects1, \"center\", ax); autolabel(rects2, \"center\", ax)\n",
    "\n",
    "fig.set_size_inches(15.5, 7.5, forward=True)\n",
    "fig.savefig('figures/{}'.format(title), dpi=100, bbox_inches='tight')\n",
    "plt.title('QUANTIDADE DE PROCESSOS DA COMARCA DO RECIFE OBTIDOS JUNTO AO TJPE')\n",
    "plt.show()"
   ]
  },
  {
   "cell_type": "markdown",
   "metadata": {},
   "source": [
    "## NPUs Sequencial"
   ]
  },
  {
   "cell_type": "code",
   "execution_count": 61,
   "metadata": {},
   "outputs": [],
   "source": [
    "dict_qtd_esperado_recife = pickle.load(\n",
    "    open('database/dict_anos_esperados_recife_sequencial.pickle', 'rb'))\n",
    "dict_qtd_obtido_recife = pickle.load(\n",
    "    open('database/dict_anos_pegos_recife_sequencial.pickle', 'rb'))"
   ]
  },
  {
   "cell_type": "markdown",
   "metadata": {},
   "source": [
    "### Qtd de processos esperados"
   ]
  },
  {
   "cell_type": "code",
   "execution_count": 62,
   "metadata": {},
   "outputs": [
    {
     "data": {
      "text/plain": [
       "{2004: 11323,\n",
       " 2005: 5373,\n",
       " 2006: 5333,\n",
       " 2007: 4809,\n",
       " 2008: 5069,\n",
       " 2009: 8748,\n",
       " 2010: 16831,\n",
       " 2011: 16558,\n",
       " 2012: 17460,\n",
       " 2013: 17302,\n",
       " 2014: 18466,\n",
       " 2015: 17366,\n",
       " 2016: 11605,\n",
       " 2017: 12519,\n",
       " 2018: 15075}"
      ]
     },
     "execution_count": 62,
     "metadata": {},
     "output_type": "execute_result"
    }
   ],
   "source": [
    "dict_qtd_esperado_recife"
   ]
  },
  {
   "cell_type": "code",
   "execution_count": 63,
   "metadata": {},
   "outputs": [
    {
     "data": {
      "text/plain": [
       "183837"
      ]
     },
     "execution_count": 63,
     "metadata": {},
     "output_type": "execute_result"
    }
   ],
   "source": [
    "sum(dict_qtd_esperado_recife.values())"
   ]
  },
  {
   "cell_type": "code",
   "execution_count": 64,
   "metadata": {},
   "outputs": [],
   "source": [
    "anos_esperados = sorted(dict_qtd_esperado_recife.keys())\n",
    "qtd_anos_esperados = [dict_qtd_esperado_recife[i] for i in anos_esperados]"
   ]
  },
  {
   "cell_type": "markdown",
   "metadata": {},
   "source": [
    "### Qtd de processos obtidos"
   ]
  },
  {
   "cell_type": "code",
   "execution_count": 65,
   "metadata": {},
   "outputs": [
    {
     "data": {
      "text/plain": [
       "{2004: 0,\n",
       " 2005: 0,\n",
       " 2006: 0,\n",
       " 2007: 8,\n",
       " 2008: 18,\n",
       " 2009: 2,\n",
       " 2010: 132,\n",
       " 2011: 235,\n",
       " 2012: 334,\n",
       " 2013: 286,\n",
       " 2014: 407,\n",
       " 2015: 972,\n",
       " 2016: 1111,\n",
       " 2017: 2169,\n",
       " 2018: 3786}"
      ]
     },
     "execution_count": 65,
     "metadata": {},
     "output_type": "execute_result"
    }
   ],
   "source": [
    "dict_qtd_obtido_recife"
   ]
  },
  {
   "cell_type": "code",
   "execution_count": 66,
   "metadata": {},
   "outputs": [
    {
     "data": {
      "text/plain": [
       "9460"
      ]
     },
     "execution_count": 66,
     "metadata": {},
     "output_type": "execute_result"
    }
   ],
   "source": [
    "sum(dict_qtd_obtido_recife.values())"
   ]
  },
  {
   "cell_type": "code",
   "execution_count": 67,
   "metadata": {},
   "outputs": [],
   "source": [
    "anos_obtidos = sorted(dict_qtd_obtido_recife.keys())\n",
    "qtd_anos_obtidos = [dict_qtd_obtido_recife[i] for i in anos_obtidos]"
   ]
  },
  {
   "cell_type": "markdown",
   "metadata": {},
   "source": [
    "### Grafico da distribuição de obtidos e de esperados"
   ]
  },
  {
   "cell_type": "code",
   "execution_count": 69,
   "metadata": {},
   "outputs": [
    {
     "data": {
      "image/png": "[encoded data removed]",
      "text/plain": [
       "<Figure size 1116x540 with 1 Axes>"
      ]
     },
     "metadata": {
      "needs_background": "light"
     },
     "output_type": "display_data"
    }
   ],
   "source": [
    "title = 'Processos_na_comarca_0001_(Recife)_sequencial'\n",
    "\n",
    "ind = np.arange(len(anos_esperados))\n",
    "width = 0.40\n",
    "\n",
    "fig, ax = plt.subplots()\n",
    "rects1 = ax.bar(ind - width/2, qtd_anos_esperados, width, label='Capturados')\n",
    "rects2 = ax.bar(ind + width/2, qtd_anos_obtidos, width, label='Relacionados')\n",
    "\n",
    "ax.set_ylabel('Qtd. Processos'); ax.set_xticks(ind)\n",
    "ax.set_xticklabels(anos_esperados); ax.legend()\n",
    "autolabel(rects1, \"center\", ax); autolabel(rects2, \"center\", ax)\n",
    "\n",
    "x'\n",
    "fig.savefig('figures/{}'.format(title), dpi=100, bbox_inches='tight')\n",
    "plt.title('QUANTIDADE DE PROCESSOS DA COMARCA DO RECIFE GERADOS SEQUENCIALMENTE')\n",
    "plt.show()"
   ]
  },
  {
   "cell_type": "markdown",
   "metadata": {},
   "source": [
    "## Distribuição por ano"
   ]
  },
  {
   "cell_type": "code",
   "execution_count": 91,
   "metadata": {},
   "outputs": [],
   "source": [
    "df_total['ano'] = df_total['numero'].apply(get_ano)"
   ]
  },
  {
   "cell_type": "code",
   "execution_count": 101,
   "metadata": {},
   "outputs": [],
   "source": [
    "df_total.to_json('database/processos_totais.json')"
   ]
  },
  {
   "cell_type": "code",
   "execution_count": 92,
   "metadata": {},
   "outputs": [
    {
     "data": {
      "text/html": [
       "<div>\n",
       "<style scoped>\n",
       "    .dataframe tbody tr th:only-of-type {\n",
       "        vertical-align: middle;\n",
       "    }\n",
       "\n",
       "    .dataframe tbody tr th {\n",
       "        vertical-align: top;\n",
       "    }\n",
       "\n",
       "    .dataframe thead th {\n",
       "        text-align: right;\n",
       "    }\n",
       "</style>\n",
       "<table border=\"1\" class=\"dataframe\">\n",
       "  <thead>\n",
       "    <tr style=\"text-align: right;\">\n",
       "      <th></th>\n",
       "      <th>numero</th>\n",
       "      <th>juizo</th>\n",
       "      <th>classe_CNJ</th>\n",
       "      <th>eletronico</th>\n",
       "      <th>comarca</th>\n",
       "      <th>instancia</th>\n",
       "      <th>estado</th>\n",
       "      <th>andamentos_qtd</th>\n",
       "      <th>assuntos</th>\n",
       "      <th>andamentos</th>\n",
       "      <th>ano</th>\n",
       "    </tr>\n",
       "  </thead>\n",
       "  <tbody>\n",
       "    <tr>\n",
       "      <th>0</th>\n",
       "      <td>1774826420128169984</td>\n",
       "      <td>Segunda Vara de Violência Doméstica e Familiar...</td>\n",
       "      <td>Inquérito Policial</td>\n",
       "      <td>False</td>\n",
       "      <td>Recife</td>\n",
       "      <td>1GRAU</td>\n",
       "      <td>PE</td>\n",
       "      <td>4</td>\n",
       "      <td>[Crimes Previstos no Estatuto do Idoso]</td>\n",
       "      <td>[{'complemento': 'Central de Inquéritos', 'dat...</td>\n",
       "      <td>2012</td>\n",
       "    </tr>\n",
       "    <tr>\n",
       "      <th>1</th>\n",
       "      <td>1736234020128169984</td>\n",
       "      <td>Segunda Vara de Violência Doméstica e Familiar...</td>\n",
       "      <td>Inquérito Policial</td>\n",
       "      <td>False</td>\n",
       "      <td>Recife</td>\n",
       "      <td>1GRAU</td>\n",
       "      <td>PE</td>\n",
       "      <td>22</td>\n",
       "      <td>[Crimes Previstos no Estatuto do Idoso]</td>\n",
       "      <td>[{'complemento': 'Central de Inquéritos', 'dat...</td>\n",
       "      <td>2012</td>\n",
       "    </tr>\n",
       "    <tr>\n",
       "      <th>2</th>\n",
       "      <td>1544027620098170112</td>\n",
       "      <td>Terceira Vara de Violência Doméstica e Familia...</td>\n",
       "      <td>Ação Penal - Procedimento Sumário</td>\n",
       "      <td>False</td>\n",
       "      <td>Recife</td>\n",
       "      <td>1GRAU</td>\n",
       "      <td>PE</td>\n",
       "      <td>26</td>\n",
       "      <td>[Decorrente de Violência Doméstica, Violência ...</td>\n",
       "      <td>[{'complemento': '', 'data': '12/09/2018 10:23...</td>\n",
       "      <td>2009</td>\n",
       "    </tr>\n",
       "    <tr>\n",
       "      <th>3</th>\n",
       "      <td>856377720148169984</td>\n",
       "      <td>Terceira Vara de Violência Doméstica e Familia...</td>\n",
       "      <td>Inquérito Policial</td>\n",
       "      <td>False</td>\n",
       "      <td>Recife</td>\n",
       "      <td>1GRAU</td>\n",
       "      <td>PE</td>\n",
       "      <td>14</td>\n",
       "      <td>[Ameaça]</td>\n",
       "      <td>[{'complemento': 'Ministério Público', 'data':...</td>\n",
       "      <td>2014</td>\n",
       "    </tr>\n",
       "    <tr>\n",
       "      <th>4</th>\n",
       "      <td>208506820168170016</td>\n",
       "      <td>Terceira Vara de Violência Doméstica e Familia...</td>\n",
       "      <td>Inquérito Policial</td>\n",
       "      <td>False</td>\n",
       "      <td>Recife</td>\n",
       "      <td>1GRAU</td>\n",
       "      <td>PE</td>\n",
       "      <td>9</td>\n",
       "      <td>[Violência Doméstica Contra a Mulher, Ameaça]</td>\n",
       "      <td>[{'complemento': '', 'data': '20/06/2019 13:21...</td>\n",
       "      <td>2016</td>\n",
       "    </tr>\n",
       "  </tbody>\n",
       "</table>\n",
       "</div>"
      ],
      "text/plain": [
       "                numero                                              juizo  \\\n",
       "0  1774826420128169984  Segunda Vara de Violência Doméstica e Familiar...   \n",
       "1  1736234020128169984  Segunda Vara de Violência Doméstica e Familiar...   \n",
       "2  1544027620098170112  Terceira Vara de Violência Doméstica e Familia...   \n",
       "3   856377720148169984  Terceira Vara de Violência Doméstica e Familia...   \n",
       "4   208506820168170016  Terceira Vara de Violência Doméstica e Familia...   \n",
       "\n",
       "                          classe_CNJ  eletronico comarca instancia estado  \\\n",
       "0                 Inquérito Policial       False  Recife     1GRAU     PE   \n",
       "1                 Inquérito Policial       False  Recife     1GRAU     PE   \n",
       "2  Ação Penal - Procedimento Sumário       False  Recife     1GRAU     PE   \n",
       "3                 Inquérito Policial       False  Recife     1GRAU     PE   \n",
       "4                 Inquérito Policial       False  Recife     1GRAU     PE   \n",
       "\n",
       "   andamentos_qtd                                           assuntos  \\\n",
       "0               4            [Crimes Previstos no Estatuto do Idoso]   \n",
       "1              22            [Crimes Previstos no Estatuto do Idoso]   \n",
       "2              26  [Decorrente de Violência Doméstica, Violência ...   \n",
       "3              14                                           [Ameaça]   \n",
       "4               9      [Violência Doméstica Contra a Mulher, Ameaça]   \n",
       "\n",
       "                                          andamentos   ano  \n",
       "0  [{'complemento': 'Central de Inquéritos', 'dat...  2012  \n",
       "1  [{'complemento': 'Central de Inquéritos', 'dat...  2012  \n",
       "2  [{'complemento': '', 'data': '12/09/2018 10:23...  2009  \n",
       "3  [{'complemento': 'Ministério Público', 'data':...  2014  \n",
       "4  [{'complemento': '', 'data': '20/06/2019 13:21...  2016  "
      ]
     },
     "execution_count": 92,
     "metadata": {},
     "output_type": "execute_result"
    }
   ],
   "source": [
    "df_total.head()"
   ]
  },
  {
   "cell_type": "code",
   "execution_count": 104,
   "metadata": {},
   "outputs": [
    {
     "name": "stdout",
     "output_type": "stream",
     "text": [
      "<class 'pandas.core.frame.DataFrame'>\n",
      "Int64Index: 13300 entries, 0 to 9999\n",
      "Data columns (total 11 columns):\n",
      "numero            13300 non-null int64\n",
      "juizo             13300 non-null object\n",
      "classe_CNJ        13300 non-null object\n",
      "eletronico        13300 non-null bool\n",
      "comarca           13300 non-null object\n",
      "instancia         13300 non-null object\n",
      "estado            13300 non-null object\n",
      "andamentos_qtd    13300 non-null int64\n",
      "assuntos          13300 non-null object\n",
      "andamentos        13300 non-null object\n",
      "ano               13300 non-null int64\n",
      "dtypes: bool(1), int64(3), object(7)\n",
      "memory usage: 1.1+ MB\n"
     ]
    }
   ],
   "source": [
    "df_total.info()"
   ]
  },
  {
   "cell_type": "code",
   "execution_count": 93,
   "metadata": {},
   "outputs": [],
   "source": [
    "dict_total_obtido = dict(df_total['ano'].value_counts())"
   ]
  },
  {
   "cell_type": "code",
   "execution_count": 94,
   "metadata": {},
   "outputs": [
    {
     "data": {
      "text/plain": [
       "{2018: 3901,\n",
       " 2017: 2281,\n",
       " 2015: 1639,\n",
       " 2016: 1384,\n",
       " 2014: 1120,\n",
       " 2013: 840,\n",
       " 2012: 814,\n",
       " 2011: 537,\n",
       " 2010: 426,\n",
       " 2009: 165,\n",
       " 2008: 121,\n",
       " 2007: 67,\n",
       " 2006: 4,\n",
       " 2005: 1}"
      ]
     },
     "execution_count": 94,
     "metadata": {},
     "output_type": "execute_result"
    }
   ],
   "source": [
    "dict_total_obtido"
   ]
  },
  {
   "cell_type": "code",
   "execution_count": 96,
   "metadata": {},
   "outputs": [],
   "source": [
    "anos_obtidos = sorted(dict_total_obtido.keys())\n",
    "qtd_anos_obtidos = [dict_total_obtido[i] for i in anos_obtidos]"
   ]
  },
  {
   "cell_type": "code",
   "execution_count": 99,
   "metadata": {},
   "outputs": [
    {
     "data": {
      "image/png": "[encoded data removed]",
      "text/plain": [
       "<Figure size 1116x540 with 1 Axes>"
      ]
     },
     "metadata": {
      "needs_background": "light"
     },
     "output_type": "display_data"
    }
   ],
   "source": [
    "title = 'Processos_totais_utilizados'\n",
    "\n",
    "ind = np.arange(len(anos_obtidos))\n",
    "width = 0.40\n",
    "\n",
    "fig, ax = plt.subplots()\n",
    "rects1 = ax.bar(ind, qtd_anos_obtidos, width, label='Capturados')\n",
    "\n",
    "ax.set_ylabel('Qtd. Processos'); ax.set_xticks(ind)\n",
    "ax.set_xticklabels(anos_obtidos); ax.legend()\n",
    "autolabel(rects1, \"center\", ax)\n",
    "\n",
    "fig.set_size_inches(15.5, 7.5, forward=True)\n",
    "fig.savefig('figures/{}'.format(title), dpi=100, bbox_inches='tight')\n",
    "plt.title('PROCESSOS TOTAIS UTILIZADOS')\n",
    "plt.show()"
   ]
  }
 ],
 "metadata": {
  "colab": {
   "name": "analises.ipynb",
   "provenance": [],
   "toc_visible": true,
   "version": "0.3.2"
  },
  "kernelspec": {
   "display_name": "Python 3",
   "language": "python",
   "name": "python3"
  },
  "language_info": {
   "codemirror_mode": {
    "name": "ipython",
    "version": 3
   },
   "file_extension": ".py",
   "mimetype": "text/x-python",
   "name": "python",
   "nbconvert_exporter": "python",
   "pygments_lexer": "ipython3",
   "version": "3.7.3"
  }
 },
 "nbformat": 4,
 "nbformat_minor": 1
}
