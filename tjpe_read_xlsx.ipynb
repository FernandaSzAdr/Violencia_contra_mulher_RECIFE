{
 "cells": [
  {
   "cell_type": "code",
   "execution_count": 1,
   "metadata": {},
   "outputs": [],
   "source": [
    "from datetime import date\n",
    "import pandas as pd\n",
    "import numpy as np\n",
    "import matplotlib.pyplot as plt\n",
    "import re\n",
    "\n",
    "%matplotlib inline"
   ]
  },
  {
   "cell_type": "code",
   "execution_count": 2,
   "metadata": {},
   "outputs": [],
   "source": [
    "df = pd.read_excel('database/Processos_autuados_de_2006_a_2018.xlsx')"
   ]
  },
  {
   "cell_type": "markdown",
   "metadata": {},
   "source": [
    "# Dado Original"
   ]
  },
  {
   "cell_type": "code",
   "execution_count": 3,
   "metadata": {},
   "outputs": [
    {
     "data": {
      "text/plain": [
       "(167547, 7)"
      ]
     },
     "execution_count": 3,
     "metadata": {},
     "output_type": "execute_result"
    }
   ],
   "source": [
    "df.shape"
   ]
  },
  {
   "cell_type": "code",
   "execution_count": 4,
   "metadata": {},
   "outputs": [
    {
     "data": {
      "text/html": [
       "<div>\n",
       "<style scoped>\n",
       "    .dataframe tbody tr th:only-of-type {\n",
       "        vertical-align: middle;\n",
       "    }\n",
       "\n",
       "    .dataframe tbody tr th {\n",
       "        vertical-align: top;\n",
       "    }\n",
       "\n",
       "    .dataframe thead th {\n",
       "        text-align: right;\n",
       "    }\n",
       "</style>\n",
       "<table border=\"1\" class=\"dataframe\">\n",
       "  <thead>\n",
       "    <tr style=\"text-align: right;\">\n",
       "      <th></th>\n",
       "      <th>NPU/ EXPEDIENTE</th>\n",
       "      <th>NPU/ EXPEDIENTE.1</th>\n",
       "      <th>NPU/ EXPEDIENTE.2</th>\n",
       "      <th>NPU/ EXPEDIENTE.3</th>\n",
       "      <th>NPU/ EXPEDIENTE.4</th>\n",
       "      <th>NPU/ EXPEDIENTE.5</th>\n",
       "      <th>NPU/ EXPEDIENTE.6</th>\n",
       "    </tr>\n",
       "  </thead>\n",
       "  <tbody>\n",
       "    <tr>\n",
       "      <th>0</th>\n",
       "      <td>0000001-05.2016.8.17.0380</td>\n",
       "      <td>1002-32.2017.8.17.1110</td>\n",
       "      <td>0000001-95.2017.8.17.1050</td>\n",
       "      <td>0000001-44.2016.8.17.0270</td>\n",
       "      <td>0000001-44.2016.8.17.0270</td>\n",
       "      <td>0000441-53.2017.8.17.0610</td>\n",
       "      <td>0000001-05.2016.8.17.0380</td>\n",
       "    </tr>\n",
       "    <tr>\n",
       "      <th>1</th>\n",
       "      <td>0000001-10.2016.8.17.1510</td>\n",
       "      <td>0000001-08.2009.8.17.1590</td>\n",
       "      <td>0000014-08.2011.8.17.1470</td>\n",
       "      <td>0000004-30.2018.8.17.1110</td>\n",
       "      <td>0000004-30.2018.8.17.1110</td>\n",
       "      <td>2018.0581.001689</td>\n",
       "      <td>0000001-08.2009.8.17.1590</td>\n",
       "    </tr>\n",
       "    <tr>\n",
       "      <th>2</th>\n",
       "      <td>0000001-11.2018.8.17.0420</td>\n",
       "      <td>0000001-09.2018.8.17.1520</td>\n",
       "      <td>0000023-02.2018.8.17.0410</td>\n",
       "      <td>0000008-52.2018.8.17.0630</td>\n",
       "      <td>0000008-52.2018.8.17.0630</td>\n",
       "      <td>2018.0581.005356</td>\n",
       "      <td>0000001-09.2018.8.17.1520</td>\n",
       "    </tr>\n",
       "    <tr>\n",
       "      <th>3</th>\n",
       "      <td>0000001-12.2018.8.17.0840</td>\n",
       "      <td>0000001-11.2018.8.17.0420</td>\n",
       "      <td>0000028-24.2018.8.17.0410</td>\n",
       "      <td>0000008-71.2016.8.17.1390</td>\n",
       "      <td>0000008-71.2016.8.17.1390</td>\n",
       "      <td>2018.0581.006859</td>\n",
       "      <td>0000001-10.2016.8.17.1510</td>\n",
       "    </tr>\n",
       "    <tr>\n",
       "      <th>4</th>\n",
       "      <td>0000001-13.2017.8.17.0560</td>\n",
       "      <td>0000001-12.2017.8.17.0140</td>\n",
       "      <td>0000029-09.2018.8.17.0410</td>\n",
       "      <td>0000010-86.2018.8.17.0350</td>\n",
       "      <td>0000010-86.2018.8.17.0350</td>\n",
       "      <td>2018.0581.007302</td>\n",
       "      <td>0000001-11.2018.8.17.0420</td>\n",
       "    </tr>\n",
       "  </tbody>\n",
       "</table>\n",
       "</div>"
      ],
      "text/plain": [
       "             NPU/ EXPEDIENTE          NPU/ EXPEDIENTE.1  \\\n",
       "0  0000001-05.2016.8.17.0380     1002-32.2017.8.17.1110   \n",
       "1  0000001-10.2016.8.17.1510  0000001-08.2009.8.17.1590   \n",
       "2  0000001-11.2018.8.17.0420  0000001-09.2018.8.17.1520   \n",
       "3  0000001-12.2018.8.17.0840  0000001-11.2018.8.17.0420   \n",
       "4  0000001-13.2017.8.17.0560  0000001-12.2017.8.17.0140   \n",
       "\n",
       "           NPU/ EXPEDIENTE.2          NPU/ EXPEDIENTE.3  \\\n",
       "0  0000001-95.2017.8.17.1050  0000001-44.2016.8.17.0270   \n",
       "1  0000014-08.2011.8.17.1470  0000004-30.2018.8.17.1110   \n",
       "2  0000023-02.2018.8.17.0410  0000008-52.2018.8.17.0630   \n",
       "3  0000028-24.2018.8.17.0410  0000008-71.2016.8.17.1390   \n",
       "4  0000029-09.2018.8.17.0410  0000010-86.2018.8.17.0350   \n",
       "\n",
       "           NPU/ EXPEDIENTE.4          NPU/ EXPEDIENTE.5  \\\n",
       "0  0000001-44.2016.8.17.0270  0000441-53.2017.8.17.0610   \n",
       "1  0000004-30.2018.8.17.1110           2018.0581.001689   \n",
       "2  0000008-52.2018.8.17.0630           2018.0581.005356   \n",
       "3  0000008-71.2016.8.17.1390           2018.0581.006859   \n",
       "4  0000010-86.2018.8.17.0350           2018.0581.007302   \n",
       "\n",
       "           NPU/ EXPEDIENTE.6  \n",
       "0  0000001-05.2016.8.17.0380  \n",
       "1  0000001-08.2009.8.17.1590  \n",
       "2  0000001-09.2018.8.17.1520  \n",
       "3  0000001-10.2016.8.17.1510  \n",
       "4  0000001-11.2018.8.17.0420  "
      ]
     },
     "execution_count": 4,
     "metadata": {},
     "output_type": "execute_result"
    }
   ],
   "source": [
    "df.head()"
   ]
  },
  {
   "cell_type": "markdown",
   "metadata": {},
   "source": [
    "## Agrupar os dados"
   ]
  },
  {
   "cell_type": "code",
   "execution_count": 5,
   "metadata": {},
   "outputs": [],
   "source": [
    "new_df = pd.concat([df['NPU/ EXPEDIENTE'], df['NPU/ EXPEDIENTE.1'], df['NPU/ EXPEDIENTE.2'], df['NPU/ EXPEDIENTE.3'],\n",
    "                    df['NPU/ EXPEDIENTE.4'], df['NPU/ EXPEDIENTE.5'], df['NPU/ EXPEDIENTE.6']\n",
    "                   ],\n",
    "                   ignore_index=True)"
   ]
  },
  {
   "cell_type": "code",
   "execution_count": 6,
   "metadata": {},
   "outputs": [
    {
     "data": {
      "text/plain": [
       "1172824    9900020-72.2014.8.17.0420\n",
       "1172825    9900021-53.2012.8.17.1220\n",
       "1172826    9900021-91.2013.8.17.0420\n",
       "1172827    9900081-15.2012.8.17.0480\n",
       "1172828    9900098-51.2012.8.17.0480\n",
       "dtype: object"
      ]
     },
     "execution_count": 6,
     "metadata": {},
     "output_type": "execute_result"
    }
   ],
   "source": [
    "new_df.tail()"
   ]
  },
  {
   "cell_type": "markdown",
   "metadata": {},
   "source": [
    "Quantidade de campos que estão nulos:"
   ]
  },
  {
   "cell_type": "code",
   "execution_count": 7,
   "metadata": {},
   "outputs": [
    {
     "data": {
      "text/plain": [
       "(837690, 1172829)"
      ]
     },
     "execution_count": 7,
     "metadata": {},
     "output_type": "execute_result"
    }
   ],
   "source": [
    "new_df.isna().sum(), new_df.shape[0]"
   ]
  },
  {
   "cell_type": "code",
   "execution_count": 8,
   "metadata": {},
   "outputs": [],
   "source": [
    "new_df = new_df.dropna()"
   ]
  },
  {
   "cell_type": "code",
   "execution_count": 9,
   "metadata": {},
   "outputs": [
    {
     "data": {
      "text/plain": [
       "335139"
      ]
     },
     "execution_count": 9,
     "metadata": {},
     "output_type": "execute_result"
    }
   ],
   "source": [
    "new_df.shape[0]"
   ]
  },
  {
   "cell_type": "markdown",
   "metadata": {},
   "source": [
    "Remove numeros duplicados:"
   ]
  },
  {
   "cell_type": "code",
   "execution_count": 10,
   "metadata": {},
   "outputs": [],
   "source": [
    "new_df = new_df.drop_duplicates()"
   ]
  },
  {
   "cell_type": "markdown",
   "metadata": {},
   "source": [
    "Nova quantidade de amostras:"
   ]
  },
  {
   "cell_type": "code",
   "execution_count": 11,
   "metadata": {},
   "outputs": [
    {
     "data": {
      "text/plain": [
       "143933"
      ]
     },
     "execution_count": 11,
     "metadata": {},
     "output_type": "execute_result"
    }
   ],
   "source": [
    "new_df.shape[0]"
   ]
  },
  {
   "cell_type": "markdown",
   "metadata": {},
   "source": [
    "## Dividir dados por tipo de número"
   ]
  },
  {
   "cell_type": "code",
   "execution_count": 12,
   "metadata": {},
   "outputs": [],
   "source": [
    "def parse_npu(numero):\n",
    "    numero = u''.join(re.findall(r'\\d+', numero))\n",
    "    numero = numero.zfill(20)\n",
    "    return {\n",
    "        'sequencial': numero[0:7],\n",
    "        'digito': numero[7:9],\n",
    "        'ano': numero[9:13],\n",
    "        'justica': numero[13:14],\n",
    "        'tribunal': numero[14:16],\n",
    "        'origem': numero[16:20]\n",
    "    }\n",
    "\n",
    "def get_ano(numero):\n",
    "    campos = parse_npu(numero)\n",
    "    return int(campos['ano'])\n",
    "\n",
    "def is_recife(numero):\n",
    "    campos = parse_npu(numero)\n",
    "    if campos['origem'] == '0001':\n",
    "        return True\n",
    "    return False\n",
    "\n",
    "def is_npu(numero):\n",
    "    if len(numero) == 16:\n",
    "        return False\n",
    "    campos = parse_npu(numero)\n",
    "    return (campos['sequencial'] != '0000000'\n",
    "            and 1900 <= int(campos['ano']) <= date.today().year\n",
    "            and campos['justica'] != '0')\n",
    "\n",
    "def is_execucao(numero):\n",
    "    if len(numero) == 16:\n",
    "        return True\n",
    "    return False"
   ]
  },
  {
   "cell_type": "markdown",
   "metadata": {},
   "source": [
    "### NPU e EXECUCAO"
   ]
  },
  {
   "cell_type": "code",
   "execution_count": 13,
   "metadata": {},
   "outputs": [],
   "source": [
    "df_npu = new_df[new_df.apply(is_npu)]\n",
    "df_execucao = new_df[new_df.apply(is_execucao)]"
   ]
  },
  {
   "cell_type": "code",
   "execution_count": 14,
   "metadata": {},
   "outputs": [
    {
     "data": {
      "text/plain": [
       "((142951,), (982,))"
      ]
     },
     "execution_count": 14,
     "metadata": {},
     "output_type": "execute_result"
    }
   ],
   "source": [
    "df_npu.shape, df_execucao.shape"
   ]
  },
  {
   "cell_type": "markdown",
   "metadata": {},
   "source": [
    "### RECIFE"
   ]
  },
  {
   "cell_type": "code",
   "execution_count": 15,
   "metadata": {},
   "outputs": [],
   "source": [
    "df_recife = df_npu[df_npu.apply(is_recife)]"
   ]
  },
  {
   "cell_type": "code",
   "execution_count": 16,
   "metadata": {},
   "outputs": [
    {
     "data": {
      "text/plain": [
       "(27774,)"
      ]
     },
     "execution_count": 16,
     "metadata": {},
     "output_type": "execute_result"
    }
   ],
   "source": [
    "df_recife.shape"
   ]
  },
  {
   "cell_type": "markdown",
   "metadata": {},
   "source": [
    "#### ANOS"
   ]
  },
  {
   "cell_type": "code",
   "execution_count": 17,
   "metadata": {},
   "outputs": [],
   "source": [
    "anos = np.array(df_recife.apply(get_ano))\n",
    "npus = np.array(df_recife)"
   ]
  },
  {
   "cell_type": "code",
   "execution_count": 18,
   "metadata": {},
   "outputs": [],
   "source": [
    "df_npu_recife = pd.DataFrame({'npu': npus, 'ano': anos})"
   ]
  },
  {
   "cell_type": "code",
   "execution_count": 19,
   "metadata": {},
   "outputs": [
    {
     "data": {
      "text/plain": [
       "2015    3590\n",
       "2013    3416\n",
       "2014    3244\n",
       "2018    2887\n",
       "2012    2616\n",
       "2010    2477\n",
       "2016    2460\n",
       "2011    2315\n",
       "2017    2314\n",
       "2009    1716\n",
       "2008     490\n",
       "2007     221\n",
       "2006      26\n",
       "2005       1\n",
       "2004       1\n",
       "Name: ano, dtype: int64"
      ]
     },
     "execution_count": 19,
     "metadata": {},
     "output_type": "execute_result"
    }
   ],
   "source": [
    "df_npu_recife['ano'].value_counts()"
   ]
  },
  {
   "cell_type": "code",
   "execution_count": 20,
   "metadata": {},
   "outputs": [
    {
     "data": {
      "image/png": "[encoded data removed]",
      "text/plain": [
       "<Figure size 432x288 with 1 Axes>"
      ]
     },
     "metadata": {
      "needs_background": "light"
     },
     "output_type": "display_data"
    }
   ],
   "source": [
    "fig = plt.figure()\n",
    "title = 'Processos na comarca 0001 (Recife)'\n",
    "df_npu_recife['ano'].value_counts().plot.barh(title=title)\n",
    "fig.savefig('figures/{}'.format(title), dpi=100, bbox_inches='tight')"
   ]
  },
  {
   "cell_type": "markdown",
   "metadata": {},
   "source": [
    "## Gerando CSV"
   ]
  },
  {
   "cell_type": "code",
   "execution_count": 21,
   "metadata": {},
   "outputs": [],
   "source": [
    "df_recife.to_csv('database/npus_recife.csv', index = None, header=False)"
   ]
  }
 ],
 "metadata": {
  "kernelspec": {
   "display_name": "Python 3",
   "language": "python",
   "name": "python3"
  },
  "language_info": {
   "codemirror_mode": {
    "name": "ipython",
    "version": 3
   },
   "file_extension": ".py",
   "mimetype": "text/x-python",
   "name": "python",
   "nbconvert_exporter": "python",
   "pygments_lexer": "ipython3",
   "version": "3.7.3"
  }
 },
 "nbformat": 4,
 "nbformat_minor": 2
}
