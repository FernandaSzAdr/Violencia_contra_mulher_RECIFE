{
 "cells": [
  {
   "cell_type": "code",
   "execution_count": 126,
   "metadata": {},
   "outputs": [],
   "source": [
    "from datetime import datetime\n",
    "import matplotlib.pyplot as plt\n",
    "import numpy as np\n",
    "import pandas as pd\n",
    "from pathlib import Path\n",
    "import re\n",
    "import six"
   ]
  },
  {
   "cell_type": "markdown",
   "metadata": {},
   "source": [
    "#### Helper para salvar graficos"
   ]
  },
  {
   "cell_type": "code",
   "execution_count": 127,
   "metadata": {},
   "outputs": [],
   "source": [
    "def autolabel(rects, xpos='center', ax=None):\n",
    "    \"\"\"\n",
    "    Attach a text label above each bar in *rects*, displaying its height.\n",
    "\n",
    "    *xpos* indicates which side to place the text w.r.t. the center of\n",
    "    the bar. It can be one of the following {'center', 'right', 'left'}.\n",
    "    \"\"\"\n",
    "\n",
    "    ha = {'center': 'center', 'right': 'left', 'left': 'right'}\n",
    "    offset = {'center': 0, 'right': 1, 'left': -1}\n",
    "\n",
    "    for rect in rects:\n",
    "        height = rect.get_height()\n",
    "        ax.annotate('{}'.format(height),\n",
    "                    xy=(rect.get_x() + rect.get_width() / 2, height),\n",
    "                    xytext=(offset[xpos]*3, 3),  # use 3 points offset\n",
    "                    textcoords=\"offset points\",  # in both directions\n",
    "                    ha=ha[xpos], va='bottom')"
   ]
  },
  {
   "cell_type": "markdown",
   "metadata": {},
   "source": [
    "#### Captura paths de cada ano:"
   ]
  },
  {
   "cell_type": "code",
   "execution_count": 128,
   "metadata": {},
   "outputs": [],
   "source": [
    "local_raiz = 'database/'\n",
    "locais_anos = list(Path(local_raiz).glob('*'))"
   ]
  },
  {
   "cell_type": "markdown",
   "metadata": {},
   "source": [
    "#### Listas para armazenar os csvs especificos de cada ano:"
   ]
  },
  {
   "cell_type": "code",
   "execution_count": 129,
   "metadata": {},
   "outputs": [],
   "source": [
    "processos_anos = []\n",
    "andamentos_anos = []\n",
    "assuntos_anos = []"
   ]
  },
  {
   "cell_type": "code",
   "execution_count": 130,
   "metadata": {},
   "outputs": [],
   "source": [
    "for local in locais_anos:\n",
    "    processos_anos.append(list(Path(local).glob('*_recife.csv'))[0])\n",
    "    andamentos_anos.append(list(Path(local).glob('*_andamentos.csv'))[0])\n",
    "    assuntos_anos.append(list(Path(local).glob('*_assuntos.csv'))[0])\n",
    "\n",
    "df_processos = [pd.read_csv(str(processo)) for processo in processos_anos]\n",
    "df_andamentos = [pd.read_csv(str(andamento)) for andamento in andamentos_anos]\n",
    "df_assuntos = [pd.read_csv(str(assunto)) for assunto in assuntos_anos]"
   ]
  },
  {
   "cell_type": "markdown",
   "metadata": {},
   "source": [
    "#### Criação de DataFrames"
   ]
  },
  {
   "cell_type": "code",
   "execution_count": 131,
   "metadata": {},
   "outputs": [],
   "source": [
    "df_processos_totais = pd.concat(df_processos)\n",
    "df_andamentos_totais = pd.concat(df_andamentos)\n",
    "df_assuntos_totais = pd.concat(df_assuntos)"
   ]
  },
  {
   "cell_type": "markdown",
   "metadata": {},
   "source": [
    "### Frequencia de processos por ano"
   ]
  },
  {
   "cell_type": "markdown",
   "metadata": {},
   "source": [
    "Os valores foram obtidos realizando uma pesquisa no banco, para fac"
   ]
  },
  {
   "cell_type": "code",
   "execution_count": 132,
   "metadata": {},
   "outputs": [],
   "source": [
    "anos_frequencia = pd.DataFrame({\n",
    "        'Ano': [2011, 2012, 2013, 2014, 2015, 2016, 2017, 2018],\n",
    "        'Proc_ano': [16558, 17460, 17302, 18466, 17366, 11605, 12519, 15075],\n",
    "        'Proc_vcm': [235, 334, 286, 407, 972, 1111, 2169, 3786]\n",
    "})"
   ]
  },
  {
   "cell_type": "code",
   "execution_count": 133,
   "metadata": {},
   "outputs": [
    {
     "data": {
      "image/png": "[encoded data removed]",
      "text/plain": [
       "<Figure size 756x468 with 1 Axes>"
      ]
     },
     "metadata": {
      "needs_background": "light"
     },
     "output_type": "display_data"
    }
   ],
   "source": [
    "ind = np.arange(len(anos_frequencia['Proc_vcm']))\n",
    "width = 0.35\n",
    "\n",
    "fig, ax = plt.subplots()\n",
    "rects1 = ax.bar(ind - width/2, anos_frequencia['Proc_ano'], width,\n",
    "                label='Todos')\n",
    "rects2 = ax.bar(ind + width/2, anos_frequencia['Proc_vcm'], width,\n",
    "                label='Vio. Cont. Mulher')\n",
    "\n",
    "ax.set_ylabel('Qtd. Processos'); ax.set_xticks(ind)\n",
    "ax.set_xticklabels(anos_frequencia['Ano']); ax.set_xlabel('Anos'); ax.legend()\n",
    "autolabel(rects1, \"center\", ax); autolabel(rects2, \"center\", ax)\n",
    "\n",
    "fig.set_size_inches(10.5, 6.5, forward=True)\n",
    "fig.savefig('figures/processos_anos', dpi=100, bbox_inches='tight')\n",
    "plt.show()"
   ]
  },
  {
   "cell_type": "code",
   "execution_count": 134,
   "metadata": {},
   "outputs": [
    {
     "data": {
      "text/plain": [
       "126351"
      ]
     },
     "execution_count": 134,
     "metadata": {},
     "output_type": "execute_result"
    }
   ],
   "source": [
    "anos_frequencia['Proc_ano'].sum()"
   ]
  },
  {
   "cell_type": "code",
   "execution_count": 135,
   "metadata": {},
   "outputs": [],
   "source": [
    "proporcoes = []\n",
    "total_processos = anos_frequencia['Proc_ano'].sum()\n",
    "for valor in anos_frequencia['Proc_vcm'].values:\n",
    "    proporcoes.append(valor*100/total_processos)"
   ]
  },
  {
   "cell_type": "code",
   "execution_count": 136,
   "metadata": {},
   "outputs": [
    {
     "data": {
      "text/plain": [
       "[0.1859898220037831,\n",
       " 0.264342981060696,\n",
       " 0.22635357060885944,\n",
       " 0.3221185427895307,\n",
       " 0.7692855616496902,\n",
       " 0.8792965627498002,\n",
       " 1.7166464847923641,\n",
       " 2.9964147493886077]"
      ]
     },
     "execution_count": 136,
     "metadata": {},
     "output_type": "execute_result"
    }
   ],
   "source": [
    "proporcoes"
   ]
  },
  {
   "cell_type": "code",
   "execution_count": 137,
   "metadata": {},
   "outputs": [],
   "source": [
    "proporcoes = list(map(lambda x: float(\"{0:.2f}\".format(x)), proporcoes))"
   ]
  },
  {
   "cell_type": "code",
   "execution_count": 138,
   "metadata": {},
   "outputs": [
    {
     "data": {
      "text/plain": [
       "[0.19, 0.26, 0.23, 0.32, 0.77, 0.88, 1.72, 3.0]"
      ]
     },
     "execution_count": 138,
     "metadata": {},
     "output_type": "execute_result"
    }
   ],
   "source": [
    "proporcoes"
   ]
  },
  {
   "cell_type": "code",
   "execution_count": 139,
   "metadata": {},
   "outputs": [
    {
     "data": {
      "image/png": "[encoded data removed]",
      "text/plain": [
       "<Figure size 612x396 with 1 Axes>"
      ]
     },
     "metadata": {
      "needs_background": "light"
     },
     "output_type": "display_data"
    }
   ],
   "source": [
    "ind = np.arange(len(proporcoes))\n",
    "width = 0.35\n",
    "\n",
    "fig, ax = plt.subplots()\n",
    "rects1 = ax.bar(ind - width/2, proporcoes, width,\n",
    "                label='Viol. Cont. Mulher')\n",
    "\n",
    "ax.set_ylabel('Qtd. Processos (%)'); ax.set_xticks(ind)\n",
    "ax.set_xticklabels(anos_frequencia['Ano']); ax.set_xlabel('Anos'); ax.legend()\n",
    "autolabel(rects1, \"center\", ax)\n",
    "\n",
    "fig.set_size_inches(8.5, 5.5, forward=True)\n",
    "fig.savefig('figures/frequencia_processos_anos', dpi=100, bbox_inches='tight')\n",
    "plt.show()"
   ]
  },
  {
   "cell_type": "markdown",
   "metadata": {},
   "source": [
    "### Analisando as Classes CNJs"
   ]
  },
  {
   "cell_type": "code",
   "execution_count": 140,
   "metadata": {},
   "outputs": [],
   "source": [
    "classe_cnj = df_processos_totais['Classe CNJ']"
   ]
  },
  {
   "cell_type": "code",
   "execution_count": 141,
   "metadata": {},
   "outputs": [
    {
     "data": {
      "text/plain": [
       "Medidas Protetivas de urgência (Lei Maria da Penha)             2838\n",
       "Ação Penal - Procedimento Sumário                               2581\n",
       "Medidas Protetivas de urgência (Lei Maria da Penha) Criminal    2497\n",
       "Inquérito Policial                                               794\n",
       "Auto de Prisão em Flagrante                                      172\n",
       "Ação Penal - Procedimento Ordinário                               83\n",
       "Representação Criminal/Notícia de Crime                           58\n",
       "Insanidade Mental do Acusado                                      17\n",
       "Incidente de Falsidade                                             4\n",
       "Pedido de Quebra de Sigilo de Dados e/ou Telefônico                1\n",
       "Carta Precatória Criminal                                          1\n",
       "Ação Penal - Procedimento Sumaríssimo                              1\n",
       "Habeas Corpus Criminal                                             1\n",
       "Procedimento Investigatório Criminal (PIC-MP)                      1\n",
       "Habeas Corpus                                                      1\n",
       "Name: Classe CNJ, dtype: int64"
      ]
     },
     "execution_count": 141,
     "metadata": {},
     "output_type": "execute_result"
    }
   ],
   "source": [
    "classe_cnj.value_counts()"
   ]
  },
  {
   "cell_type": "code",
   "execution_count": 142,
   "metadata": {},
   "outputs": [],
   "source": [
    "valores_classe_cnj = classe_cnj.value_counts()\n",
    "title = 'Frequência das Classes CNJ'"
   ]
  },
  {
   "cell_type": "code",
   "execution_count": 143,
   "metadata": {},
   "outputs": [
    {
     "data": {
      "text/plain": [
       "<matplotlib.axes._subplots.AxesSubplot at 0x2c421f7ed68>"
      ]
     },
     "execution_count": 143,
     "metadata": {},
     "output_type": "execute_result"
    },
    {
     "data": {
      "image/png": "[encoded data removed]",
      "text/plain": [
       "<Figure size 432x288 with 1 Axes>"
      ]
     },
     "metadata": {
      "needs_background": "light"
     },
     "output_type": "display_data"
    }
   ],
   "source": [
    "fig = plt.figure()\n",
    "valores_classe_cnj.plot.barh(title=title, edgecolor='black', color='y')"
   ]
  },
  {
   "cell_type": "code",
   "execution_count": 144,
   "metadata": {},
   "outputs": [
    {
     "data": {
      "text/plain": [
       "Medidas Protetivas de urgência (Lei Maria da Penha)             2838\n",
       "Ação Penal - Procedimento Sumário                               2581\n",
       "Medidas Protetivas de urgência (Lei Maria da Penha) Criminal    2497\n",
       "Inquérito Policial                                               794\n",
       "Auto de Prisão em Flagrante                                      172\n",
       "Ação Penal - Procedimento Ordinário                               83\n",
       "Representação Criminal/Notícia de Crime                           58\n",
       "Insanidade Mental do Acusado                                      17\n",
       "Incidente de Falsidade                                             4\n",
       "Pedido de Quebra de Sigilo de Dados e/ou Telefônico                1\n",
       "Carta Precatória Criminal                                          1\n",
       "Ação Penal - Procedimento Sumaríssimo                              1\n",
       "Habeas Corpus Criminal                                             1\n",
       "Procedimento Investigatório Criminal (PIC-MP)                      1\n",
       "Habeas Corpus                                                      1\n",
       "Name: Classe CNJ, dtype: int64"
      ]
     },
     "execution_count": 144,
     "metadata": {},
     "output_type": "execute_result"
    }
   ],
   "source": [
    "valores_classe_cnj"
   ]
  },
  {
   "cell_type": "code",
   "execution_count": 181,
   "metadata": {},
   "outputs": [],
   "source": [
    "valores = []\n",
    "nomes = []\n",
    "outros = []"
   ]
  },
  {
   "cell_type": "code",
   "execution_count": 182,
   "metadata": {},
   "outputs": [],
   "source": [
    "cont = 0\n",
    "for i, valor in enumerate(valores_classe_cnj.values):\n",
    "    if valor <= 58:\n",
    "        cont += valor\n",
    "        outros.append(valores_classe_cnj.index[i])\n",
    "    else:\n",
    "        valores.append(valor)\n",
    "        nomes.append(valores_classe_cnj.index[i])\n",
    "\n",
    "valores.append(cont)\n",
    "nomes.append('Outros')"
   ]
  },
  {
   "cell_type": "code",
   "execution_count": 183,
   "metadata": {},
   "outputs": [],
   "source": [
    "valores_classe_filtrados =  pd.Series(valores, index=nomes)"
   ]
  },
  {
   "cell_type": "code",
   "execution_count": 184,
   "metadata": {},
   "outputs": [
    {
     "data": {
      "text/plain": [
       "Medidas Protetivas de urgência (Lei Maria da Penha)             2838\n",
       "Ação Penal - Procedimento Sumário                               2581\n",
       "Medidas Protetivas de urgência (Lei Maria da Penha) Criminal    2497\n",
       "Inquérito Policial                                               794\n",
       "Auto de Prisão em Flagrante                                      172\n",
       "Ação Penal - Procedimento Ordinário                               83\n",
       "Outros                                                            85\n",
       "dtype: int64"
      ]
     },
     "execution_count": 184,
     "metadata": {},
     "output_type": "execute_result"
    }
   ],
   "source": [
    "valores_classe_filtrados"
   ]
  },
  {
   "cell_type": "code",
   "execution_count": 185,
   "metadata": {},
   "outputs": [
    {
     "data": {
      "text/plain": [
       "Index(['Medidas Protetivas de urgência (Lei Maria da Penha)',\n",
       "       'Ação Penal - Procedimento Sumário',\n",
       "       'Medidas Protetivas de urgência (Lei Maria da Penha) Criminal',\n",
       "       'Inquérito Policial', 'Auto de Prisão em Flagrante',\n",
       "       'Ação Penal - Procedimento Ordinário', 'Outros'],\n",
       "      dtype='object')"
      ]
     },
     "execution_count": 185,
     "metadata": {},
     "output_type": "execute_result"
    }
   ],
   "source": [
    "valores_classe_filtrados.index"
   ]
  },
  {
   "cell_type": "code",
   "execution_count": 186,
   "metadata": {},
   "outputs": [
    {
     "data": {
      "text/plain": [
       "['Representação Criminal/Notícia de Crime',\n",
       " 'Insanidade Mental do Acusado',\n",
       " 'Incidente de Falsidade',\n",
       " 'Pedido de Quebra de Sigilo de Dados e/ou Telefônico',\n",
       " 'Carta Precatória Criminal',\n",
       " 'Ação Penal - Procedimento Sumaríssimo',\n",
       " 'Habeas Corpus Criminal',\n",
       " 'Procedimento Investigatório Criminal (PIC-MP)',\n",
       " 'Habeas Corpus']"
      ]
     },
     "execution_count": 186,
     "metadata": {},
     "output_type": "execute_result"
    }
   ],
   "source": [
    "outros"
   ]
  },
  {
   "cell_type": "code",
   "execution_count": 193,
   "metadata": {},
   "outputs": [
    {
     "data": {
      "image/png": "[encoded data removed]",
      "text/plain": [
       "<Figure size 756x756 with 1 Axes>"
      ]
     },
     "metadata": {},
     "output_type": "display_data"
    }
   ],
   "source": [
    "fig, ax = plt.subplots(subplot_kw=dict(aspect=\"equal\"))\n",
    "\n",
    "recipe = valores_classe_filtrados.index\n",
    "\n",
    "data = valores_classe_filtrados.values\n",
    "\n",
    "def func(pct, allvals):\n",
    "    absolute = int(pct/100.*np.sum(allvals))\n",
    "    return \"{:.1f}%\".format(pct, absolute)\n",
    "\n",
    "wedges, texts, autotexts = ax.pie(data, autopct=lambda pct: func(pct, data),\n",
    "                                  wedgeprops=dict(width=0.5), startangle=-40)\n",
    "\n",
    "bbox_props = dict(boxstyle=\"square,pad=0.3\", fc=\"w\", ec=\"k\", lw=0.72)\n",
    "kw = dict(arrowprops=dict(arrowstyle=\"-\"),\n",
    "          bbox=bbox_props, zorder=0, va=\"center\")\n",
    "\n",
    "for i, p in enumerate(wedges):\n",
    "    ang = (p.theta2 - p.theta1)/2. + p.theta1\n",
    "    y = np.sin(np.deg2rad(ang))\n",
    "    x = np.cos(np.deg2rad(ang))\n",
    "    horizontalalignment = {-1: \"right\", 1: \"left\"}[int(np.sign(x))]\n",
    "    connectionstyle = \"angle,angleA=0,angleB={}\".format(ang)\n",
    "    kw[\"arrowprops\"].update({\"connectionstyle\": connectionstyle})\n",
    "    ax.annotate(recipe[i], xy=(x, y), xytext=(1.1*np.sign(x), 1.4*y),\n",
    "                horizontalalignment=horizontalalignment, **kw, fontsize=13)\n",
    "\n",
    "plt.setp(autotexts, size=14, weight=\"bold\")\n",
    "ax.set_title(\"Classes CNJs mais frequentes\", fontsize=18)\n",
    "fig.set_size_inches(10.5, 10.5, forward=True)\n",
    "fig.savefig('figures/frequencia_classes_cnjs', dpi=100, bbox_inches='tight')\n",
    "plt.show()"
   ]
  },
  {
   "cell_type": "markdown",
   "metadata": {},
   "source": [
    "### Analisando os Assuntos presentes nos processos"
   ]
  },
  {
   "cell_type": "code",
   "execution_count": 152,
   "metadata": {},
   "outputs": [],
   "source": [
    "assuntos = df_assuntos_totais['Assunto']"
   ]
  },
  {
   "cell_type": "code",
   "execution_count": 153,
   "metadata": {},
   "outputs": [
    {
     "data": {
      "text/plain": [
       "array(['Decorrente de Violência Doméstica', 'Ameaça', 'Difamação',\n",
       "       'Injúria', 'Leve', 'Estelionato',\n",
       "       'Crimes contra as Relações de Consumo', 'Violação de domicílio',\n",
       "       'Roubo', 'Estupro', 'Crime Tentado', 'Calúnia',\n",
       "       'Crimes Previstos no Estatuto da criança e do adolescente',\n",
       "       'Desobediência', 'Estupro de Vulnerável',\n",
       "       'Violência Doméstica Contra a Mulher', 'Maus Tratos', 'Gravíssima',\n",
       "       'Dano', 'Furto', 'Dano Qualificado', 'Contravenções Penais',\n",
       "       'Homicídio Simples', 'Constrangimento ilegal', 'Rixa', 'Grave',\n",
       "       'Prevaricação', 'Exercício arbitrário das próprias razões',\n",
       "       'Crimes Previstos no Estatuto do Idoso', 'Desacato',\n",
       "       'Apropriação indébita', 'Fato Atípico',\n",
       "       'Seqüestro e cárcere privado', 'Resistência', 'Incêndio',\n",
       "       'Extorsão', 'Crimes de Tortura', 'Falsidade',\n",
       "       'Homicídio Qualificado', 'Ameaça (art. 147)', 'Crimes Militares',\n",
       "       'Violação sexual mediante fraude', 'Prisão Preventiva',\n",
       "       'Coação no curso do processo', 'Denunciação caluniosa',\n",
       "       'Dano Qualificado - CP - Art. 163 - Inciso I',\n",
       "       'Crimes do Sistema Nacional de Armas', 'Intimação / Notificação',\n",
       "       'Comunicação falsa de crime ou de contravenção',\n",
       "       'Abandono Intelectual', 'Lesão levíssima',\n",
       "       'Violação do segredo profissional', 'Roubo Majorado',\n",
       "       'Supressão de documento', 'Sigilo Telefônico', 'Assédio Sexual',\n",
       "       'Tráfico de Drogas e Condutas Afins',\n",
       "       'Ultraje Público ao Pudor (Ato/Escrito Obsceno)',\n",
       "       'Subtração, ocultação ou inutilização de material de salvamento',\n",
       "       'Falsa identidade',\n",
       "       'Dano Qualificado - CP - Art. 163 - Inciso III',\n",
       "       'Perigo de Contágio Venéreo', 'Furto Qualificado',\n",
       "       'Perigo de contágio de moléstia grave',\n",
       "       'Indução, Instigação ou Auxílio ao Uso de Drogas'], dtype=object)"
      ]
     },
     "execution_count": 153,
     "metadata": {},
     "output_type": "execute_result"
    }
   ],
   "source": [
    "assuntos.unique()"
   ]
  },
  {
   "cell_type": "code",
   "execution_count": 154,
   "metadata": {},
   "outputs": [
    {
     "data": {
      "text/plain": [
       "65"
      ]
     },
     "execution_count": 154,
     "metadata": {},
     "output_type": "execute_result"
    }
   ],
   "source": [
    "len(assuntos.unique())"
   ]
  },
  {
   "cell_type": "code",
   "execution_count": 155,
   "metadata": {},
   "outputs": [],
   "source": [
    "assuntos_valor = assuntos.value_counts()"
   ]
  },
  {
   "cell_type": "code",
   "execution_count": 156,
   "metadata": {},
   "outputs": [
    {
     "data": {
      "text/plain": [
       "Ameaça                                                            5416\n",
       "Violência Doméstica Contra a Mulher                               2886\n",
       "Decorrente de Violência Doméstica                                 2682\n",
       "Injúria                                                           1950\n",
       "Contravenções Penais                                               720\n",
       "Difamação                                                          243\n",
       "Dano                                                               241\n",
       "Leve                                                               200\n",
       "Violação de domicílio                                              159\n",
       "Calúnia                                                             60\n",
       "Estupro                                                             60\n",
       "Exercício arbitrário das próprias razões                            44\n",
       "Furto                                                               29\n",
       "Maus Tratos                                                         25\n",
       "Crime Tentado                                                       23\n",
       "Constrangimento ilegal                                              21\n",
       "Seqüestro e cárcere privado                                         19\n",
       "Crimes Previstos no Estatuto da criança e do adolescente            16\n",
       "Homicídio Simples                                                   13\n",
       "Apropriação indébita                                                13\n",
       "Desobediência                                                       11\n",
       "Gravíssima                                                          10\n",
       "Estupro de Vulnerável                                                9\n",
       "Roubo                                                                9\n",
       "Crimes do Sistema Nacional de Armas                                  9\n",
       "Grave                                                                9\n",
       "Crimes Previstos no Estatuto do Idoso                                9\n",
       "Comunicação falsa de crime ou de contravenção                        8\n",
       "Incêndio                                                             8\n",
       "Desacato                                                             8\n",
       "                                                                  ... \n",
       "Assédio Sexual                                                       3\n",
       "Homicídio Qualificado                                                3\n",
       "Furto Qualificado                                                    3\n",
       "Fato Atípico                                                         2\n",
       "Falsa identidade                                                     2\n",
       "Ultraje Público ao Pudor (Ato/Escrito Obsceno)                       2\n",
       "Perigo de Contágio Venéreo                                           2\n",
       "Coação no curso do processo                                          2\n",
       "Perigo de contágio de moléstia grave                                 2\n",
       "Violação do segredo profissional                                     2\n",
       "Tráfico de Drogas e Condutas Afins                                   2\n",
       "Dano Qualificado - CP - Art. 163 - Inciso III                        2\n",
       "Crimes de Tortura                                                    2\n",
       "Denunciação caluniosa                                                2\n",
       "Roubo Majorado                                                       1\n",
       "Intimação / Notificação                                              1\n",
       "Lesão levíssima                                                      1\n",
       "Crimes Militares                                                     1\n",
       "Falsidade                                                            1\n",
       "Abandono Intelectual                                                 1\n",
       "Prisão Preventiva                                                    1\n",
       "Indução, Instigação ou Auxílio ao Uso de Drogas                      1\n",
       "Dano Qualificado                                                     1\n",
       "Crimes contra as Relações de Consumo                                 1\n",
       "Ameaça (art. 147)                                                    1\n",
       "Rixa                                                                 1\n",
       "Subtração, ocultação ou inutilização de material de salvamento       1\n",
       "Violação sexual mediante fraude                                      1\n",
       "Sigilo Telefônico                                                    1\n",
       "Prevaricação                                                         1\n",
       "Name: Assunto, Length: 65, dtype: int64"
      ]
     },
     "execution_count": 156,
     "metadata": {},
     "output_type": "execute_result"
    }
   ],
   "source": [
    "assuntos_valor"
   ]
  },
  {
   "cell_type": "code",
   "execution_count": 157,
   "metadata": {},
   "outputs": [
    {
     "data": {
      "text/plain": [
       "array([5416, 2886, 2682, 1950,  720,  243,  241,  200,  159,   60,   44,\n",
       "         29,   25,   23,   21,   19,   16,   13,   11,   10,    9,    8,\n",
       "          7,    3,    2,    1], dtype=int64)"
      ]
     },
     "execution_count": 157,
     "metadata": {},
     "output_type": "execute_result"
    }
   ],
   "source": [
    "assuntos_valor.unique()"
   ]
  },
  {
   "cell_type": "code",
   "execution_count": 158,
   "metadata": {},
   "outputs": [],
   "source": [
    "assuntos_valor = assuntos_valor.iloc[assuntos_valor.values > 9]"
   ]
  },
  {
   "cell_type": "code",
   "execution_count": 159,
   "metadata": {},
   "outputs": [
    {
     "data": {
      "text/plain": [
       "Ameaça                                                      5416\n",
       "Violência Doméstica Contra a Mulher                         2886\n",
       "Decorrente de Violência Doméstica                           2682\n",
       "Injúria                                                     1950\n",
       "Contravenções Penais                                         720\n",
       "Difamação                                                    243\n",
       "Dano                                                         241\n",
       "Leve                                                         200\n",
       "Violação de domicílio                                        159\n",
       "Calúnia                                                       60\n",
       "Estupro                                                       60\n",
       "Exercício arbitrário das próprias razões                      44\n",
       "Furto                                                         29\n",
       "Maus Tratos                                                   25\n",
       "Crime Tentado                                                 23\n",
       "Constrangimento ilegal                                        21\n",
       "Seqüestro e cárcere privado                                   19\n",
       "Crimes Previstos no Estatuto da criança e do adolescente      16\n",
       "Homicídio Simples                                             13\n",
       "Apropriação indébita                                          13\n",
       "Desobediência                                                 11\n",
       "Gravíssima                                                    10\n",
       "Name: Assunto, dtype: int64"
      ]
     },
     "execution_count": 159,
     "metadata": {},
     "output_type": "execute_result"
    }
   ],
   "source": [
    "assuntos_valor"
   ]
  },
  {
   "cell_type": "code",
   "execution_count": 160,
   "metadata": {},
   "outputs": [],
   "source": [
    "valores = []\n",
    "nomes = []\n",
    "outros = []"
   ]
  },
  {
   "cell_type": "code",
   "execution_count": 161,
   "metadata": {},
   "outputs": [],
   "source": [
    "cont = 0\n",
    "for i, valor in enumerate(assuntos_valor.values):\n",
    "    if valor <= 150:\n",
    "        cont += valor\n",
    "        outros.append(assuntos_valor.index[i])\n",
    "    else:\n",
    "        valores.append(valor)\n",
    "        nomes.append(assuntos_valor.index[i])\n",
    "\n",
    "valores.append(cont)\n",
    "nomes.append('Outros')"
   ]
  },
  {
   "cell_type": "code",
   "execution_count": 162,
   "metadata": {},
   "outputs": [],
   "source": [
    "valores_assuntos_filtrados =  pd.Series(valores, index=nomes).sort_values(ascending=False)"
   ]
  },
  {
   "cell_type": "code",
   "execution_count": 163,
   "metadata": {},
   "outputs": [
    {
     "data": {
      "text/plain": [
       "Ameaça                                 5416\n",
       "Violência Doméstica Contra a Mulher    2886\n",
       "Decorrente de Violência Doméstica      2682\n",
       "Injúria                                1950\n",
       "Contravenções Penais                    720\n",
       "Outros                                  344\n",
       "Difamação                               243\n",
       "Dano                                    241\n",
       "Leve                                    200\n",
       "Violação de domicílio                   159\n",
       "dtype: int64"
      ]
     },
     "execution_count": 163,
     "metadata": {},
     "output_type": "execute_result"
    }
   ],
   "source": [
    "valores_assuntos_filtrados"
   ]
  },
  {
   "cell_type": "code",
   "execution_count": 164,
   "metadata": {},
   "outputs": [
    {
     "data": {
      "text/plain": [
       "['Calúnia',\n",
       " 'Estupro',\n",
       " 'Exercício arbitrário das próprias razões',\n",
       " 'Furto',\n",
       " 'Maus Tratos',\n",
       " 'Crime Tentado',\n",
       " 'Constrangimento ilegal',\n",
       " 'Seqüestro e cárcere privado',\n",
       " 'Crimes Previstos no Estatuto da criança e do adolescente',\n",
       " 'Homicídio Simples',\n",
       " 'Apropriação indébita',\n",
       " 'Desobediência',\n",
       " 'Gravíssima']"
      ]
     },
     "execution_count": 164,
     "metadata": {},
     "output_type": "execute_result"
    }
   ],
   "source": [
    "outros"
   ]
  },
  {
   "cell_type": "code",
   "execution_count": 165,
   "metadata": {},
   "outputs": [
    {
     "data": {
      "image/png": "[encoded data removed]",
      "text/plain": [
       "<Figure size 756x756 with 1 Axes>"
      ]
     },
     "metadata": {},
     "output_type": "display_data"
    }
   ],
   "source": [
    "fig, ax = plt.subplots(subplot_kw=dict(aspect=\"equal\"))\n",
    "\n",
    "recipe = valores_assuntos_filtrados.index\n",
    "\n",
    "data = valores_assuntos_filtrados.values\n",
    "\n",
    "def func(pct, allvals):\n",
    "    absolute = int(pct/100.*np.sum(allvals))\n",
    "    return \"{:.1f}%\".format(pct, absolute)\n",
    "\n",
    "wedges, texts, autotexts = ax.pie(data, autopct=lambda pct: func(pct, data),\n",
    "                                  wedgeprops=dict(width=0.5), startangle=-40)\n",
    "\n",
    "bbox_props = dict(boxstyle=\"square,pad=0.3\", fc=\"w\", ec=\"k\", lw=0.72)\n",
    "kw = dict(arrowprops=dict(arrowstyle=\"-\"),\n",
    "          bbox=bbox_props, zorder=0, va=\"center\")\n",
    "\n",
    "for i, p in enumerate(wedges):\n",
    "    ang = (p.theta2 - p.theta1)/2. + p.theta1\n",
    "    y = np.sin(np.deg2rad(ang))\n",
    "    x = np.cos(np.deg2rad(ang))\n",
    "    horizontalalignment = {-1: \"right\", 1: \"left\"}[int(np.sign(x))]\n",
    "    connectionstyle = \"angle,angleA=0,angleB={}\".format(ang)\n",
    "    kw[\"arrowprops\"].update({\"connectionstyle\": connectionstyle})\n",
    "    ax.annotate(recipe[i], xy=(x, y), xytext=(1.2*np.sign(x), 1.4*y),\n",
    "                horizontalalignment=horizontalalignment, **kw, fontsize=12)\n",
    "\n",
    "plt.setp(autotexts, size=13, weight=\"bold\")\n",
    "ax.set_title(\"Assuntos CNJs mais frequentes\", fontsize=18)\n",
    "fig.set_size_inches(10.5, 10.5, forward=True)\n",
    "fig.savefig('figures/frequencia_assuntos_cnjs', dpi=100, bbox_inches='tight')\n",
    "plt.show()"
   ]
  },
  {
   "cell_type": "markdown",
   "metadata": {},
   "source": [
    "### Analisando os andamentos"
   ]
  },
  {
   "cell_type": "code",
   "execution_count": 166,
   "metadata": {},
   "outputs": [],
   "source": [
    "numero_exemplo = df_andamentos_totais['numero'].unique()[1]"
   ]
  },
  {
   "cell_type": "code",
   "execution_count": 167,
   "metadata": {},
   "outputs": [
    {
     "data": {
      "text/plain": [
       "299719620118170001"
      ]
     },
     "execution_count": 167,
     "metadata": {},
     "output_type": "execute_result"
    }
   ],
   "source": [
    "numero_exemplo"
   ]
  },
  {
   "cell_type": "code",
   "execution_count": 168,
   "metadata": {},
   "outputs": [
    {
     "data": {
      "text/html": [
       "<div>\n",
       "<style scoped>\n",
       "    .dataframe tbody tr th:only-of-type {\n",
       "        vertical-align: middle;\n",
       "    }\n",
       "\n",
       "    .dataframe tbody tr th {\n",
       "        vertical-align: top;\n",
       "    }\n",
       "\n",
       "    .dataframe thead th {\n",
       "        text-align: right;\n",
       "    }\n",
       "</style>\n",
       "<table border=\"1\" class=\"dataframe\">\n",
       "  <thead>\n",
       "    <tr style=\"text-align: right;\">\n",
       "      <th></th>\n",
       "      <th>Unnamed: 0</th>\n",
       "      <th>complemento</th>\n",
       "      <th>data</th>\n",
       "      <th>numero</th>\n",
       "      <th>texto</th>\n",
       "      <th>titulo</th>\n",
       "    </tr>\n",
       "  </thead>\n",
       "  <tbody>\n",
       "    <tr>\n",
       "      <th>9</th>\n",
       "      <td>9</td>\n",
       "      <td>Defensoria Pública</td>\n",
       "      <td>15/05/2019 10:14:00</td>\n",
       "      <td>299719620118170001</td>\n",
       "      <td>NaN</td>\n",
       "      <td>Autos entregues em carga ao Defensoria Pública</td>\n",
       "    </tr>\n",
       "    <tr>\n",
       "      <th>10</th>\n",
       "      <td>10</td>\n",
       "      <td>NaN</td>\n",
       "      <td>16/03/2018 07:30:00</td>\n",
       "      <td>299719620118170001</td>\n",
       "      <td>NaN</td>\n",
       "      <td>Determinação de cumprimento de atos processuai...</td>\n",
       "    </tr>\n",
       "    <tr>\n",
       "      <th>11</th>\n",
       "      <td>11</td>\n",
       "      <td>Despacho</td>\n",
       "      <td>29/01/2016 11:08:00</td>\n",
       "      <td>299719620118170001</td>\n",
       "      <td>NaN</td>\n",
       "      <td>Conclusos Partes - Polo 1</td>\n",
       "    </tr>\n",
       "    <tr>\n",
       "      <th>12</th>\n",
       "      <td>12</td>\n",
       "      <td>Terceira Vara de Violência Doméstica e Familia...</td>\n",
       "      <td>18/01/2016 12:01:00</td>\n",
       "      <td>299719620118170001</td>\n",
       "      <td>NaN</td>\n",
       "      <td>Redistribuído por Prazo 7 - 1ª D - MAR/JUN/SET...</td>\n",
       "    </tr>\n",
       "    <tr>\n",
       "      <th>13</th>\n",
       "      <td>13</td>\n",
       "      <td>Ciente nos autos</td>\n",
       "      <td>21/12/2015 17:55:00</td>\n",
       "      <td>299719620118170001</td>\n",
       "      <td>NaN</td>\n",
       "      <td>Recebidos os autos Ciente nos autos</td>\n",
       "    </tr>\n",
       "    <tr>\n",
       "      <th>14</th>\n",
       "      <td>14</td>\n",
       "      <td>Ministério Público</td>\n",
       "      <td>04/11/2015 16:57:00</td>\n",
       "      <td>299719620118170001</td>\n",
       "      <td>NaN</td>\n",
       "      <td>Autos entregues em carga ao Ministério Público</td>\n",
       "    </tr>\n",
       "    <tr>\n",
       "      <th>15</th>\n",
       "      <td>15</td>\n",
       "      <td>NaN</td>\n",
       "      <td>04/11/2015 16:43:00</td>\n",
       "      <td>299719620118170001</td>\n",
       "      <td>NaN</td>\n",
       "      <td>Registro e Publicação de Sentença</td>\n",
       "    </tr>\n",
       "    <tr>\n",
       "      <th>16</th>\n",
       "      <td>16</td>\n",
       "      <td>Despacho</td>\n",
       "      <td>11/09/2015 19:18:00</td>\n",
       "      <td>299719620118170001</td>\n",
       "      <td>NaN</td>\n",
       "      <td>Conclusos Partes - Polo 1</td>\n",
       "    </tr>\n",
       "    <tr>\n",
       "      <th>17</th>\n",
       "      <td>17</td>\n",
       "      <td>Mandado Cumprido</td>\n",
       "      <td>11/09/2015 19:00:00</td>\n",
       "      <td>299719620118170001</td>\n",
       "      <td>NaN</td>\n",
       "      <td>Juntada de Mandado Cumprido</td>\n",
       "    </tr>\n",
       "    <tr>\n",
       "      <th>18</th>\n",
       "      <td>18</td>\n",
       "      <td>Outros</td>\n",
       "      <td>11/09/2015 18:57:00</td>\n",
       "      <td>299719620118170001</td>\n",
       "      <td>NaN</td>\n",
       "      <td>Juntada de Outros</td>\n",
       "    </tr>\n",
       "    <tr>\n",
       "      <th>19</th>\n",
       "      <td>19</td>\n",
       "      <td>Mandados</td>\n",
       "      <td>21/03/2014 15:46:00</td>\n",
       "      <td>299719620118170001</td>\n",
       "      <td>NaN</td>\n",
       "      <td>Expedição de Mandados</td>\n",
       "    </tr>\n",
       "    <tr>\n",
       "      <th>20</th>\n",
       "      <td>20</td>\n",
       "      <td>NaN</td>\n",
       "      <td>29/10/2013 15:07:00</td>\n",
       "      <td>299719620118170001</td>\n",
       "      <td>NaN</td>\n",
       "      <td>Determinação de cumprimento de atos processuai...</td>\n",
       "    </tr>\n",
       "    <tr>\n",
       "      <th>21</th>\n",
       "      <td>21</td>\n",
       "      <td>Despacho</td>\n",
       "      <td>29/08/2012 14:53:00</td>\n",
       "      <td>299719620118170001</td>\n",
       "      <td>NaN</td>\n",
       "      <td>Conclusos Partes - Polo 1</td>\n",
       "    </tr>\n",
       "    <tr>\n",
       "      <th>22</th>\n",
       "      <td>22</td>\n",
       "      <td>OfÍcio</td>\n",
       "      <td>21/08/2012 15:21:00</td>\n",
       "      <td>299719620118170001</td>\n",
       "      <td>NaN</td>\n",
       "      <td>Expedição de OfÍcio</td>\n",
       "    </tr>\n",
       "    <tr>\n",
       "      <th>23</th>\n",
       "      <td>23</td>\n",
       "      <td>Mandado Cumprido Negativamente</td>\n",
       "      <td>21/08/2012 15:13:00</td>\n",
       "      <td>299719620118170001</td>\n",
       "      <td>NaN</td>\n",
       "      <td>Juntada de Mandado Cumprido Negativamente</td>\n",
       "    </tr>\n",
       "    <tr>\n",
       "      <th>24</th>\n",
       "      <td>24</td>\n",
       "      <td>Mandado Cumprido</td>\n",
       "      <td>21/08/2012 15:10:00</td>\n",
       "      <td>299719620118170001</td>\n",
       "      <td>NaN</td>\n",
       "      <td>Juntada de Mandado Cumprido</td>\n",
       "    </tr>\n",
       "    <tr>\n",
       "      <th>25</th>\n",
       "      <td>25</td>\n",
       "      <td>Mandado Cumprido</td>\n",
       "      <td>21/08/2012 15:07:00</td>\n",
       "      <td>299719620118170001</td>\n",
       "      <td>NaN</td>\n",
       "      <td>Juntada de Mandado Cumprido</td>\n",
       "    </tr>\n",
       "    <tr>\n",
       "      <th>26</th>\n",
       "      <td>26</td>\n",
       "      <td>Ofício Entregue</td>\n",
       "      <td>16/08/2012 15:44:00</td>\n",
       "      <td>299719620118170001</td>\n",
       "      <td>NaN</td>\n",
       "      <td>Juntada de Ofício Entregue</td>\n",
       "    </tr>\n",
       "    <tr>\n",
       "      <th>27</th>\n",
       "      <td>27</td>\n",
       "      <td>Despacho</td>\n",
       "      <td>12/06/2012 17:02:00</td>\n",
       "      <td>299719620118170001</td>\n",
       "      <td>NaN</td>\n",
       "      <td>Conclusos Partes - Polo 1</td>\n",
       "    </tr>\n",
       "    <tr>\n",
       "      <th>28</th>\n",
       "      <td>28</td>\n",
       "      <td>Ofício Recebido</td>\n",
       "      <td>12/06/2012 16:59:00</td>\n",
       "      <td>299719620118170001</td>\n",
       "      <td>NaN</td>\n",
       "      <td>Juntada de Ofício Recebido</td>\n",
       "    </tr>\n",
       "    <tr>\n",
       "      <th>29</th>\n",
       "      <td>29</td>\n",
       "      <td>OfÍcio</td>\n",
       "      <td>18/04/2012 16:00:00</td>\n",
       "      <td>299719620118170001</td>\n",
       "      <td>NaN</td>\n",
       "      <td>Expedição de OfÍcio</td>\n",
       "    </tr>\n",
       "    <tr>\n",
       "      <th>30</th>\n",
       "      <td>30</td>\n",
       "      <td>Mandados</td>\n",
       "      <td>18/04/2012 15:57:00</td>\n",
       "      <td>299719620118170001</td>\n",
       "      <td>NaN</td>\n",
       "      <td>Expedição de Mandados</td>\n",
       "    </tr>\n",
       "    <tr>\n",
       "      <th>31</th>\n",
       "      <td>31</td>\n",
       "      <td>Mandados</td>\n",
       "      <td>18/04/2012 15:54:00</td>\n",
       "      <td>299719620118170001</td>\n",
       "      <td>NaN</td>\n",
       "      <td>Expedição de Mandados</td>\n",
       "    </tr>\n",
       "    <tr>\n",
       "      <th>32</th>\n",
       "      <td>32</td>\n",
       "      <td>Despacho</td>\n",
       "      <td>29/03/2012 20:08:00</td>\n",
       "      <td>299719620118170001</td>\n",
       "      <td>NaN</td>\n",
       "      <td>Conclusos Partes - Polo 1</td>\n",
       "    </tr>\n",
       "    <tr>\n",
       "      <th>33</th>\n",
       "      <td>33</td>\n",
       "      <td>Mandados</td>\n",
       "      <td>28/02/2012 16:33:00</td>\n",
       "      <td>299719620118170001</td>\n",
       "      <td>NaN</td>\n",
       "      <td>Expedição de Mandados</td>\n",
       "    </tr>\n",
       "    <tr>\n",
       "      <th>34</th>\n",
       "      <td>34</td>\n",
       "      <td>NaN</td>\n",
       "      <td>26/10/2011 16:03:00</td>\n",
       "      <td>299719620118170001</td>\n",
       "      <td>NaN</td>\n",
       "      <td>Determinação de citação e intimação de partes ...</td>\n",
       "    </tr>\n",
       "    <tr>\n",
       "      <th>35</th>\n",
       "      <td>35</td>\n",
       "      <td>Despacho</td>\n",
       "      <td>06/06/2011 18:30:00</td>\n",
       "      <td>299719620118170001</td>\n",
       "      <td>NaN</td>\n",
       "      <td>Conclusão</td>\n",
       "    </tr>\n",
       "    <tr>\n",
       "      <th>36</th>\n",
       "      <td>36</td>\n",
       "      <td>Segunda Vara de Violência Doméstica e Familiar...</td>\n",
       "      <td>30/05/2011 12:58:00</td>\n",
       "      <td>299719620118170001</td>\n",
       "      <td>NaN</td>\n",
       "      <td>Distribuído por Média</td>\n",
       "    </tr>\n",
       "  </tbody>\n",
       "</table>\n",
       "</div>"
      ],
      "text/plain": [
       "    Unnamed: 0                                        complemento  \\\n",
       "9            9                                 Defensoria Pública   \n",
       "10          10                                                NaN   \n",
       "11          11                                           Despacho   \n",
       "12          12  Terceira Vara de Violência Doméstica e Familia...   \n",
       "13          13                                   Ciente nos autos   \n",
       "14          14                                 Ministério Público   \n",
       "15          15                                                NaN   \n",
       "16          16                                           Despacho   \n",
       "17          17                                   Mandado Cumprido   \n",
       "18          18                                             Outros   \n",
       "19          19                                           Mandados   \n",
       "20          20                                                NaN   \n",
       "21          21                                           Despacho   \n",
       "22          22                                             OfÍcio   \n",
       "23          23                     Mandado Cumprido Negativamente   \n",
       "24          24                                   Mandado Cumprido   \n",
       "25          25                                   Mandado Cumprido   \n",
       "26          26                                    Ofício Entregue   \n",
       "27          27                                           Despacho   \n",
       "28          28                                    Ofício Recebido   \n",
       "29          29                                             OfÍcio   \n",
       "30          30                                           Mandados   \n",
       "31          31                                           Mandados   \n",
       "32          32                                           Despacho   \n",
       "33          33                                           Mandados   \n",
       "34          34                                                NaN   \n",
       "35          35                                           Despacho   \n",
       "36          36  Segunda Vara de Violência Doméstica e Familiar...   \n",
       "\n",
       "                   data              numero texto  \\\n",
       "9   15/05/2019 10:14:00  299719620118170001   NaN   \n",
       "10  16/03/2018 07:30:00  299719620118170001   NaN   \n",
       "11  29/01/2016 11:08:00  299719620118170001   NaN   \n",
       "12  18/01/2016 12:01:00  299719620118170001   NaN   \n",
       "13  21/12/2015 17:55:00  299719620118170001   NaN   \n",
       "14  04/11/2015 16:57:00  299719620118170001   NaN   \n",
       "15  04/11/2015 16:43:00  299719620118170001   NaN   \n",
       "16  11/09/2015 19:18:00  299719620118170001   NaN   \n",
       "17  11/09/2015 19:00:00  299719620118170001   NaN   \n",
       "18  11/09/2015 18:57:00  299719620118170001   NaN   \n",
       "19  21/03/2014 15:46:00  299719620118170001   NaN   \n",
       "20  29/10/2013 15:07:00  299719620118170001   NaN   \n",
       "21  29/08/2012 14:53:00  299719620118170001   NaN   \n",
       "22  21/08/2012 15:21:00  299719620118170001   NaN   \n",
       "23  21/08/2012 15:13:00  299719620118170001   NaN   \n",
       "24  21/08/2012 15:10:00  299719620118170001   NaN   \n",
       "25  21/08/2012 15:07:00  299719620118170001   NaN   \n",
       "26  16/08/2012 15:44:00  299719620118170001   NaN   \n",
       "27  12/06/2012 17:02:00  299719620118170001   NaN   \n",
       "28  12/06/2012 16:59:00  299719620118170001   NaN   \n",
       "29  18/04/2012 16:00:00  299719620118170001   NaN   \n",
       "30  18/04/2012 15:57:00  299719620118170001   NaN   \n",
       "31  18/04/2012 15:54:00  299719620118170001   NaN   \n",
       "32  29/03/2012 20:08:00  299719620118170001   NaN   \n",
       "33  28/02/2012 16:33:00  299719620118170001   NaN   \n",
       "34  26/10/2011 16:03:00  299719620118170001   NaN   \n",
       "35  06/06/2011 18:30:00  299719620118170001   NaN   \n",
       "36  30/05/2011 12:58:00  299719620118170001   NaN   \n",
       "\n",
       "                                               titulo  \n",
       "9      Autos entregues em carga ao Defensoria Pública  \n",
       "10  Determinação de cumprimento de atos processuai...  \n",
       "11                          Conclusos Partes - Polo 1  \n",
       "12  Redistribuído por Prazo 7 - 1ª D - MAR/JUN/SET...  \n",
       "13                Recebidos os autos Ciente nos autos  \n",
       "14     Autos entregues em carga ao Ministério Público  \n",
       "15                  Registro e Publicação de Sentença  \n",
       "16                          Conclusos Partes - Polo 1  \n",
       "17                        Juntada de Mandado Cumprido  \n",
       "18                                  Juntada de Outros  \n",
       "19                              Expedição de Mandados  \n",
       "20  Determinação de cumprimento de atos processuai...  \n",
       "21                          Conclusos Partes - Polo 1  \n",
       "22                                Expedição de OfÍcio  \n",
       "23          Juntada de Mandado Cumprido Negativamente  \n",
       "24                        Juntada de Mandado Cumprido  \n",
       "25                        Juntada de Mandado Cumprido  \n",
       "26                         Juntada de Ofício Entregue  \n",
       "27                          Conclusos Partes - Polo 1  \n",
       "28                         Juntada de Ofício Recebido  \n",
       "29                                Expedição de OfÍcio  \n",
       "30                              Expedição de Mandados  \n",
       "31                              Expedição de Mandados  \n",
       "32                          Conclusos Partes - Polo 1  \n",
       "33                              Expedição de Mandados  \n",
       "34  Determinação de citação e intimação de partes ...  \n",
       "35                                          Conclusão  \n",
       "36                              Distribuído por Média  "
      ]
     },
     "execution_count": 168,
     "metadata": {},
     "output_type": "execute_result"
    }
   ],
   "source": [
    "df_andamentos_totais[(df_andamentos_totais['numero'] == int(numero_exemplo))]"
   ]
  },
  {
   "cell_type": "code",
   "execution_count": 169,
   "metadata": {},
   "outputs": [],
   "source": [
    "numeros_aux = []\n",
    "data_inicio_aux = []\n",
    "data_fim_aux = []\n",
    "duracao_aux = []"
   ]
  },
  {
   "cell_type": "code",
   "execution_count": 170,
   "metadata": {},
   "outputs": [],
   "source": [
    "for numero in df_andamentos_totais['numero'].unique():\n",
    "    lista = list(df_andamentos_totais[(\n",
    "                 df_andamentos_totais['numero'] == int(numero))]['data'])\n",
    "    lista = [datetime.strptime(lista[i], \"%d/%m/%Y %H:%M:%S\") for i in range(len(lista))]\n",
    "\n",
    "    if max(lista).year != 2019:\n",
    "        duracao = abs(lista[0] - lista[-1]).days\n",
    "\n",
    "        numeros_aux.append(numero)\n",
    "        data_inicio_aux.append(min(lista))\n",
    "        data_fim_aux.append(max(lista))\n",
    "        duracao_aux.append(duracao)"
   ]
  },
  {
   "cell_type": "markdown",
   "metadata": {},
   "source": [
    "#### Duracao dos andamentos"
   ]
  },
  {
   "cell_type": "code",
   "execution_count": 171,
   "metadata": {},
   "outputs": [],
   "source": [
    "duracao_andamentos = pd.DataFrame({\n",
    "    'Numero': numeros_aux,\n",
    "    'Data Inicio': data_inicio_aux,\n",
    "    'Data Fim': data_fim_aux,\n",
    "    'Duracao (em dias)': duracao_aux\n",
    "})"
   ]
  },
  {
   "cell_type": "code",
   "execution_count": 172,
   "metadata": {},
   "outputs": [
    {
     "data": {
      "text/html": [
       "<div>\n",
       "<style scoped>\n",
       "    .dataframe tbody tr th:only-of-type {\n",
       "        vertical-align: middle;\n",
       "    }\n",
       "\n",
       "    .dataframe tbody tr th {\n",
       "        vertical-align: top;\n",
       "    }\n",
       "\n",
       "    .dataframe thead th {\n",
       "        text-align: right;\n",
       "    }\n",
       "</style>\n",
       "<table border=\"1\" class=\"dataframe\">\n",
       "  <thead>\n",
       "    <tr style=\"text-align: right;\">\n",
       "      <th></th>\n",
       "      <th>Numero</th>\n",
       "      <th>Data Inicio</th>\n",
       "      <th>Data Fim</th>\n",
       "      <th>Duracao (em dias)</th>\n",
       "    </tr>\n",
       "  </thead>\n",
       "  <tbody>\n",
       "    <tr>\n",
       "      <th>0</th>\n",
       "      <td>249799220118170001</td>\n",
       "      <td>2011-05-06 12:43:00</td>\n",
       "      <td>2013-07-29 18:45:00</td>\n",
       "      <td>815</td>\n",
       "    </tr>\n",
       "    <tr>\n",
       "      <th>1</th>\n",
       "      <td>249755520118170001</td>\n",
       "      <td>2011-05-06 12:40:00</td>\n",
       "      <td>2013-07-26 16:25:00</td>\n",
       "      <td>812</td>\n",
       "    </tr>\n",
       "    <tr>\n",
       "      <th>2</th>\n",
       "      <td>249686320118170001</td>\n",
       "      <td>2011-05-06 12:32:00</td>\n",
       "      <td>2013-07-29 18:45:00</td>\n",
       "      <td>815</td>\n",
       "    </tr>\n",
       "    <tr>\n",
       "      <th>3</th>\n",
       "      <td>249539420118170001</td>\n",
       "      <td>2011-05-06 12:10:00</td>\n",
       "      <td>2015-11-09 08:28:00</td>\n",
       "      <td>1647</td>\n",
       "    </tr>\n",
       "    <tr>\n",
       "      <th>4</th>\n",
       "      <td>249131520118170001</td>\n",
       "      <td>2011-05-06 11:04:00</td>\n",
       "      <td>2013-07-29 18:45:00</td>\n",
       "      <td>815</td>\n",
       "    </tr>\n",
       "    <tr>\n",
       "      <th>5</th>\n",
       "      <td>298255520118170001</td>\n",
       "      <td>2011-05-27 17:36:00</td>\n",
       "      <td>2013-08-12 17:08:00</td>\n",
       "      <td>807</td>\n",
       "    </tr>\n",
       "    <tr>\n",
       "      <th>6</th>\n",
       "      <td>247599420118170001</td>\n",
       "      <td>2011-05-05 16:39:00</td>\n",
       "      <td>2015-11-10 07:47:00</td>\n",
       "      <td>1649</td>\n",
       "    </tr>\n",
       "    <tr>\n",
       "      <th>7</th>\n",
       "      <td>298827320118170001</td>\n",
       "      <td>2011-05-30 09:05:00</td>\n",
       "      <td>2018-12-20 09:14:00</td>\n",
       "      <td>2761</td>\n",
       "    </tr>\n",
       "    <tr>\n",
       "      <th>8</th>\n",
       "      <td>298800620118170001</td>\n",
       "      <td>2011-05-30 09:02:00</td>\n",
       "      <td>2013-08-12 15:51:00</td>\n",
       "      <td>805</td>\n",
       "    </tr>\n",
       "    <tr>\n",
       "      <th>9</th>\n",
       "      <td>298749620118170001</td>\n",
       "      <td>2011-05-30 08:54:00</td>\n",
       "      <td>2013-08-01 17:56:00</td>\n",
       "      <td>794</td>\n",
       "    </tr>\n",
       "    <tr>\n",
       "      <th>10</th>\n",
       "      <td>196726020118170001</td>\n",
       "      <td>2011-04-08 15:00:00</td>\n",
       "      <td>2015-11-10 08:36:00</td>\n",
       "      <td>1676</td>\n",
       "    </tr>\n",
       "    <tr>\n",
       "      <th>11</th>\n",
       "      <td>294566120118170001</td>\n",
       "      <td>2011-05-26 14:30:00</td>\n",
       "      <td>2018-11-05 09:21:00</td>\n",
       "      <td>2719</td>\n",
       "    </tr>\n",
       "    <tr>\n",
       "      <th>12</th>\n",
       "      <td>250006820118170001</td>\n",
       "      <td>2011-05-06 13:07:00</td>\n",
       "      <td>2013-07-25 18:06:00</td>\n",
       "      <td>811</td>\n",
       "    </tr>\n",
       "    <tr>\n",
       "      <th>13</th>\n",
       "      <td>250119720118170001</td>\n",
       "      <td>2011-05-06 13:20:00</td>\n",
       "      <td>2013-08-08 18:25:00</td>\n",
       "      <td>825</td>\n",
       "    </tr>\n",
       "    <tr>\n",
       "      <th>14</th>\n",
       "      <td>250543420118170001</td>\n",
       "      <td>2011-05-06 14:31:00</td>\n",
       "      <td>2015-11-10 08:25:00</td>\n",
       "      <td>1648</td>\n",
       "    </tr>\n",
       "    <tr>\n",
       "      <th>15</th>\n",
       "      <td>251418720118170001</td>\n",
       "      <td>2011-05-06 17:18:00</td>\n",
       "      <td>2013-07-25 18:06:00</td>\n",
       "      <td>811</td>\n",
       "    </tr>\n",
       "    <tr>\n",
       "      <th>16</th>\n",
       "      <td>251496420118170001</td>\n",
       "      <td>2011-05-06 17:25:00</td>\n",
       "      <td>2013-07-29 18:45:00</td>\n",
       "      <td>815</td>\n",
       "    </tr>\n",
       "    <tr>\n",
       "      <th>17</th>\n",
       "      <td>251513420118170001</td>\n",
       "      <td>2011-05-06 17:27:00</td>\n",
       "      <td>2013-08-08 18:25:00</td>\n",
       "      <td>825</td>\n",
       "    </tr>\n",
       "    <tr>\n",
       "      <th>18</th>\n",
       "      <td>91507120118170001</td>\n",
       "      <td>2011-02-15 17:19:00</td>\n",
       "      <td>2018-12-17 16:06:00</td>\n",
       "      <td>2861</td>\n",
       "    </tr>\n",
       "    <tr>\n",
       "      <th>19</th>\n",
       "      <td>250933120118170001</td>\n",
       "      <td>2011-05-06 15:55:00</td>\n",
       "      <td>2013-08-12 17:10:00</td>\n",
       "      <td>829</td>\n",
       "    </tr>\n",
       "    <tr>\n",
       "      <th>20</th>\n",
       "      <td>258182020118170001</td>\n",
       "      <td>2011-05-10 18:13:00</td>\n",
       "      <td>2013-08-12 17:08:00</td>\n",
       "      <td>824</td>\n",
       "    </tr>\n",
       "    <tr>\n",
       "      <th>21</th>\n",
       "      <td>258269420118170001</td>\n",
       "      <td>2011-05-10 18:26:00</td>\n",
       "      <td>2013-08-13 17:46:00</td>\n",
       "      <td>825</td>\n",
       "    </tr>\n",
       "    <tr>\n",
       "      <th>22</th>\n",
       "      <td>258450320118170001</td>\n",
       "      <td>2011-05-11 08:37:00</td>\n",
       "      <td>2018-10-09 09:03:00</td>\n",
       "      <td>2708</td>\n",
       "    </tr>\n",
       "    <tr>\n",
       "      <th>23</th>\n",
       "      <td>258563220118170001</td>\n",
       "      <td>2011-05-11 08:58:00</td>\n",
       "      <td>2016-08-09 13:27:00</td>\n",
       "      <td>1917</td>\n",
       "    </tr>\n",
       "    <tr>\n",
       "      <th>24</th>\n",
       "      <td>258606920118170001</td>\n",
       "      <td>2011-05-11 09:05:00</td>\n",
       "      <td>2013-08-12 17:08:00</td>\n",
       "      <td>824</td>\n",
       "    </tr>\n",
       "    <tr>\n",
       "      <th>25</th>\n",
       "      <td>255948220118170001</td>\n",
       "      <td>2011-05-10 10:41:00</td>\n",
       "      <td>2013-08-13 17:46:00</td>\n",
       "      <td>826</td>\n",
       "    </tr>\n",
       "    <tr>\n",
       "      <th>26</th>\n",
       "      <td>258918920118170001</td>\n",
       "      <td>2011-05-11 10:22:00</td>\n",
       "      <td>2013-07-26 16:25:00</td>\n",
       "      <td>807</td>\n",
       "    </tr>\n",
       "    <tr>\n",
       "      <th>27</th>\n",
       "      <td>259057320118170001</td>\n",
       "      <td>2011-05-11 10:39:00</td>\n",
       "      <td>2013-08-14 15:45:00</td>\n",
       "      <td>826</td>\n",
       "    </tr>\n",
       "    <tr>\n",
       "      <th>28</th>\n",
       "      <td>259369320118170001</td>\n",
       "      <td>2011-05-11 11:54:00</td>\n",
       "      <td>2013-07-25 18:06:00</td>\n",
       "      <td>806</td>\n",
       "    </tr>\n",
       "    <tr>\n",
       "      <th>29</th>\n",
       "      <td>262520920118170001</td>\n",
       "      <td>2011-05-12 13:13:00</td>\n",
       "      <td>2018-12-13 08:49:00</td>\n",
       "      <td>2771</td>\n",
       "    </tr>\n",
       "    <tr>\n",
       "      <th>...</th>\n",
       "      <td>...</td>\n",
       "      <td>...</td>\n",
       "      <td>...</td>\n",
       "      <td>...</td>\n",
       "    </tr>\n",
       "    <tr>\n",
       "      <th>2535</th>\n",
       "      <td>226696920188170001</td>\n",
       "      <td>2018-11-21 14:44:00</td>\n",
       "      <td>2018-11-29 16:57:00</td>\n",
       "      <td>8</td>\n",
       "    </tr>\n",
       "    <tr>\n",
       "      <th>2536</th>\n",
       "      <td>227380420188170001</td>\n",
       "      <td>2018-11-23 09:27:00</td>\n",
       "      <td>2018-11-26 09:02:00</td>\n",
       "      <td>2</td>\n",
       "    </tr>\n",
       "    <tr>\n",
       "      <th>2537</th>\n",
       "      <td>227589220188170001</td>\n",
       "      <td>2018-11-28 09:04:00</td>\n",
       "      <td>2018-12-10 11:45:00</td>\n",
       "      <td>12</td>\n",
       "    </tr>\n",
       "    <tr>\n",
       "      <th>2538</th>\n",
       "      <td>227631720188170001</td>\n",
       "      <td>2018-11-28 09:16:00</td>\n",
       "      <td>2018-11-28 17:29:00</td>\n",
       "      <td>0</td>\n",
       "    </tr>\n",
       "    <tr>\n",
       "      <th>2539</th>\n",
       "      <td>228567720188170001</td>\n",
       "      <td>2018-11-22 14:34:00</td>\n",
       "      <td>2018-12-06 14:56:00</td>\n",
       "      <td>14</td>\n",
       "    </tr>\n",
       "    <tr>\n",
       "      <th>2540</th>\n",
       "      <td>228991420188170001</td>\n",
       "      <td>2018-11-23 13:10:00</td>\n",
       "      <td>2018-11-26 17:19:00</td>\n",
       "      <td>3</td>\n",
       "    </tr>\n",
       "    <tr>\n",
       "      <th>2541</th>\n",
       "      <td>231079520188170001</td>\n",
       "      <td>2018-11-27 16:13:00</td>\n",
       "      <td>2018-12-18 15:53:00</td>\n",
       "      <td>20</td>\n",
       "    </tr>\n",
       "    <tr>\n",
       "      <th>2542</th>\n",
       "      <td>231710820188170001</td>\n",
       "      <td>2018-11-29 08:10:00</td>\n",
       "      <td>2018-12-18 11:37:00</td>\n",
       "      <td>19</td>\n",
       "    </tr>\n",
       "    <tr>\n",
       "      <th>2543</th>\n",
       "      <td>231806720188170001</td>\n",
       "      <td>2018-11-26 18:00:00</td>\n",
       "      <td>2018-12-11 10:52:00</td>\n",
       "      <td>14</td>\n",
       "    </tr>\n",
       "    <tr>\n",
       "      <th>2544</th>\n",
       "      <td>232672320188170001</td>\n",
       "      <td>2018-11-27 18:15:00</td>\n",
       "      <td>2018-12-17 11:36:00</td>\n",
       "      <td>19</td>\n",
       "    </tr>\n",
       "    <tr>\n",
       "      <th>2545</th>\n",
       "      <td>234274820188170001</td>\n",
       "      <td>2018-11-28 13:59:00</td>\n",
       "      <td>2018-11-30 18:11:00</td>\n",
       "      <td>2</td>\n",
       "    </tr>\n",
       "    <tr>\n",
       "      <th>2546</th>\n",
       "      <td>235885820188170001</td>\n",
       "      <td>2018-11-29 13:10:00</td>\n",
       "      <td>2018-12-10 11:28:00</td>\n",
       "      <td>10</td>\n",
       "    </tr>\n",
       "    <tr>\n",
       "      <th>2547</th>\n",
       "      <td>236449120188170001</td>\n",
       "      <td>2018-12-03 10:56:00</td>\n",
       "      <td>2018-12-03 18:36:00</td>\n",
       "      <td>0</td>\n",
       "    </tr>\n",
       "    <tr>\n",
       "      <th>2548</th>\n",
       "      <td>236483120188170001</td>\n",
       "      <td>2018-12-07 16:28:00</td>\n",
       "      <td>2018-12-10 12:32:00</td>\n",
       "      <td>2</td>\n",
       "    </tr>\n",
       "    <tr>\n",
       "      <th>2549</th>\n",
       "      <td>236491620188170001</td>\n",
       "      <td>2018-12-03 10:17:00</td>\n",
       "      <td>2018-12-03 18:36:00</td>\n",
       "      <td>0</td>\n",
       "    </tr>\n",
       "    <tr>\n",
       "      <th>2550</th>\n",
       "      <td>236604520188170001</td>\n",
       "      <td>2018-11-30 12:17:00</td>\n",
       "      <td>2018-12-03 18:36:00</td>\n",
       "      <td>3</td>\n",
       "    </tr>\n",
       "    <tr>\n",
       "      <th>2551</th>\n",
       "      <td>237635220188170001</td>\n",
       "      <td>2018-12-03 15:52:00</td>\n",
       "      <td>2018-12-21 14:48:00</td>\n",
       "      <td>17</td>\n",
       "    </tr>\n",
       "    <tr>\n",
       "      <th>2552</th>\n",
       "      <td>237912020188170001</td>\n",
       "      <td>2018-12-04 12:08:00</td>\n",
       "      <td>2018-12-17 10:41:00</td>\n",
       "      <td>12</td>\n",
       "    </tr>\n",
       "    <tr>\n",
       "      <th>2553</th>\n",
       "      <td>237947220188170001</td>\n",
       "      <td>2018-12-04 14:05:00</td>\n",
       "      <td>2018-12-18 18:04:00</td>\n",
       "      <td>14</td>\n",
       "    </tr>\n",
       "    <tr>\n",
       "      <th>2554</th>\n",
       "      <td>238449820188170001</td>\n",
       "      <td>2018-12-05 06:54:00</td>\n",
       "      <td>2018-12-11 18:03:00</td>\n",
       "      <td>6</td>\n",
       "    </tr>\n",
       "    <tr>\n",
       "      <th>2555</th>\n",
       "      <td>241169220188170001</td>\n",
       "      <td>2018-12-06 13:42:00</td>\n",
       "      <td>2018-12-19 14:43:00</td>\n",
       "      <td>13</td>\n",
       "    </tr>\n",
       "    <tr>\n",
       "      <th>2556</th>\n",
       "      <td>241722820188170001</td>\n",
       "      <td>2018-12-10 15:46:00</td>\n",
       "      <td>2018-12-13 13:55:00</td>\n",
       "      <td>2</td>\n",
       "    </tr>\n",
       "    <tr>\n",
       "      <th>2557</th>\n",
       "      <td>242338320188170001</td>\n",
       "      <td>2018-12-10 10:42:00</td>\n",
       "      <td>2018-12-13 16:37:00</td>\n",
       "      <td>3</td>\n",
       "    </tr>\n",
       "    <tr>\n",
       "      <th>2558</th>\n",
       "      <td>243568120188170001</td>\n",
       "      <td>2018-12-12 07:18:00</td>\n",
       "      <td>2018-12-14 12:47:00</td>\n",
       "      <td>2</td>\n",
       "    </tr>\n",
       "    <tr>\n",
       "      <th>2559</th>\n",
       "      <td>243637320188170001</td>\n",
       "      <td>2018-12-13 08:50:00</td>\n",
       "      <td>2018-12-14 11:17:00</td>\n",
       "      <td>1</td>\n",
       "    </tr>\n",
       "    <tr>\n",
       "      <th>2560</th>\n",
       "      <td>245395220188170001</td>\n",
       "      <td>2018-12-13 11:10:00</td>\n",
       "      <td>2018-12-20 11:49:00</td>\n",
       "      <td>7</td>\n",
       "    </tr>\n",
       "    <tr>\n",
       "      <th>2561</th>\n",
       "      <td>245403720188170001</td>\n",
       "      <td>2018-12-13 11:07:00</td>\n",
       "      <td>2018-12-20 11:49:00</td>\n",
       "      <td>7</td>\n",
       "    </tr>\n",
       "    <tr>\n",
       "      <th>2562</th>\n",
       "      <td>245447420188170001</td>\n",
       "      <td>2018-12-13 10:52:00</td>\n",
       "      <td>2018-12-13 16:58:00</td>\n",
       "      <td>0</td>\n",
       "    </tr>\n",
       "    <tr>\n",
       "      <th>2563</th>\n",
       "      <td>245542120188170001</td>\n",
       "      <td>2018-12-13 10:11:00</td>\n",
       "      <td>2018-12-20 11:34:00</td>\n",
       "      <td>7</td>\n",
       "    </tr>\n",
       "    <tr>\n",
       "      <th>2564</th>\n",
       "      <td>248755620188170001</td>\n",
       "      <td>2018-12-18 11:34:00</td>\n",
       "      <td>2018-12-21 12:13:00</td>\n",
       "      <td>3</td>\n",
       "    </tr>\n",
       "  </tbody>\n",
       "</table>\n",
       "<p>2565 rows × 4 columns</p>\n",
       "</div>"
      ],
      "text/plain": [
       "                  Numero         Data Inicio            Data Fim  \\\n",
       "0     249799220118170001 2011-05-06 12:43:00 2013-07-29 18:45:00   \n",
       "1     249755520118170001 2011-05-06 12:40:00 2013-07-26 16:25:00   \n",
       "2     249686320118170001 2011-05-06 12:32:00 2013-07-29 18:45:00   \n",
       "3     249539420118170001 2011-05-06 12:10:00 2015-11-09 08:28:00   \n",
       "4     249131520118170001 2011-05-06 11:04:00 2013-07-29 18:45:00   \n",
       "5     298255520118170001 2011-05-27 17:36:00 2013-08-12 17:08:00   \n",
       "6     247599420118170001 2011-05-05 16:39:00 2015-11-10 07:47:00   \n",
       "7     298827320118170001 2011-05-30 09:05:00 2018-12-20 09:14:00   \n",
       "8     298800620118170001 2011-05-30 09:02:00 2013-08-12 15:51:00   \n",
       "9     298749620118170001 2011-05-30 08:54:00 2013-08-01 17:56:00   \n",
       "10    196726020118170001 2011-04-08 15:00:00 2015-11-10 08:36:00   \n",
       "11    294566120118170001 2011-05-26 14:30:00 2018-11-05 09:21:00   \n",
       "12    250006820118170001 2011-05-06 13:07:00 2013-07-25 18:06:00   \n",
       "13    250119720118170001 2011-05-06 13:20:00 2013-08-08 18:25:00   \n",
       "14    250543420118170001 2011-05-06 14:31:00 2015-11-10 08:25:00   \n",
       "15    251418720118170001 2011-05-06 17:18:00 2013-07-25 18:06:00   \n",
       "16    251496420118170001 2011-05-06 17:25:00 2013-07-29 18:45:00   \n",
       "17    251513420118170001 2011-05-06 17:27:00 2013-08-08 18:25:00   \n",
       "18     91507120118170001 2011-02-15 17:19:00 2018-12-17 16:06:00   \n",
       "19    250933120118170001 2011-05-06 15:55:00 2013-08-12 17:10:00   \n",
       "20    258182020118170001 2011-05-10 18:13:00 2013-08-12 17:08:00   \n",
       "21    258269420118170001 2011-05-10 18:26:00 2013-08-13 17:46:00   \n",
       "22    258450320118170001 2011-05-11 08:37:00 2018-10-09 09:03:00   \n",
       "23    258563220118170001 2011-05-11 08:58:00 2016-08-09 13:27:00   \n",
       "24    258606920118170001 2011-05-11 09:05:00 2013-08-12 17:08:00   \n",
       "25    255948220118170001 2011-05-10 10:41:00 2013-08-13 17:46:00   \n",
       "26    258918920118170001 2011-05-11 10:22:00 2013-07-26 16:25:00   \n",
       "27    259057320118170001 2011-05-11 10:39:00 2013-08-14 15:45:00   \n",
       "28    259369320118170001 2011-05-11 11:54:00 2013-07-25 18:06:00   \n",
       "29    262520920118170001 2011-05-12 13:13:00 2018-12-13 08:49:00   \n",
       "...                  ...                 ...                 ...   \n",
       "2535  226696920188170001 2018-11-21 14:44:00 2018-11-29 16:57:00   \n",
       "2536  227380420188170001 2018-11-23 09:27:00 2018-11-26 09:02:00   \n",
       "2537  227589220188170001 2018-11-28 09:04:00 2018-12-10 11:45:00   \n",
       "2538  227631720188170001 2018-11-28 09:16:00 2018-11-28 17:29:00   \n",
       "2539  228567720188170001 2018-11-22 14:34:00 2018-12-06 14:56:00   \n",
       "2540  228991420188170001 2018-11-23 13:10:00 2018-11-26 17:19:00   \n",
       "2541  231079520188170001 2018-11-27 16:13:00 2018-12-18 15:53:00   \n",
       "2542  231710820188170001 2018-11-29 08:10:00 2018-12-18 11:37:00   \n",
       "2543  231806720188170001 2018-11-26 18:00:00 2018-12-11 10:52:00   \n",
       "2544  232672320188170001 2018-11-27 18:15:00 2018-12-17 11:36:00   \n",
       "2545  234274820188170001 2018-11-28 13:59:00 2018-11-30 18:11:00   \n",
       "2546  235885820188170001 2018-11-29 13:10:00 2018-12-10 11:28:00   \n",
       "2547  236449120188170001 2018-12-03 10:56:00 2018-12-03 18:36:00   \n",
       "2548  236483120188170001 2018-12-07 16:28:00 2018-12-10 12:32:00   \n",
       "2549  236491620188170001 2018-12-03 10:17:00 2018-12-03 18:36:00   \n",
       "2550  236604520188170001 2018-11-30 12:17:00 2018-12-03 18:36:00   \n",
       "2551  237635220188170001 2018-12-03 15:52:00 2018-12-21 14:48:00   \n",
       "2552  237912020188170001 2018-12-04 12:08:00 2018-12-17 10:41:00   \n",
       "2553  237947220188170001 2018-12-04 14:05:00 2018-12-18 18:04:00   \n",
       "2554  238449820188170001 2018-12-05 06:54:00 2018-12-11 18:03:00   \n",
       "2555  241169220188170001 2018-12-06 13:42:00 2018-12-19 14:43:00   \n",
       "2556  241722820188170001 2018-12-10 15:46:00 2018-12-13 13:55:00   \n",
       "2557  242338320188170001 2018-12-10 10:42:00 2018-12-13 16:37:00   \n",
       "2558  243568120188170001 2018-12-12 07:18:00 2018-12-14 12:47:00   \n",
       "2559  243637320188170001 2018-12-13 08:50:00 2018-12-14 11:17:00   \n",
       "2560  245395220188170001 2018-12-13 11:10:00 2018-12-20 11:49:00   \n",
       "2561  245403720188170001 2018-12-13 11:07:00 2018-12-20 11:49:00   \n",
       "2562  245447420188170001 2018-12-13 10:52:00 2018-12-13 16:58:00   \n",
       "2563  245542120188170001 2018-12-13 10:11:00 2018-12-20 11:34:00   \n",
       "2564  248755620188170001 2018-12-18 11:34:00 2018-12-21 12:13:00   \n",
       "\n",
       "      Duracao (em dias)  \n",
       "0                   815  \n",
       "1                   812  \n",
       "2                   815  \n",
       "3                  1647  \n",
       "4                   815  \n",
       "5                   807  \n",
       "6                  1649  \n",
       "7                  2761  \n",
       "8                   805  \n",
       "9                   794  \n",
       "10                 1676  \n",
       "11                 2719  \n",
       "12                  811  \n",
       "13                  825  \n",
       "14                 1648  \n",
       "15                  811  \n",
       "16                  815  \n",
       "17                  825  \n",
       "18                 2861  \n",
       "19                  829  \n",
       "20                  824  \n",
       "21                  825  \n",
       "22                 2708  \n",
       "23                 1917  \n",
       "24                  824  \n",
       "25                  826  \n",
       "26                  807  \n",
       "27                  826  \n",
       "28                  806  \n",
       "29                 2771  \n",
       "...                 ...  \n",
       "2535                  8  \n",
       "2536                  2  \n",
       "2537                 12  \n",
       "2538                  0  \n",
       "2539                 14  \n",
       "2540                  3  \n",
       "2541                 20  \n",
       "2542                 19  \n",
       "2543                 14  \n",
       "2544                 19  \n",
       "2545                  2  \n",
       "2546                 10  \n",
       "2547                  0  \n",
       "2548                  2  \n",
       "2549                  0  \n",
       "2550                  3  \n",
       "2551                 17  \n",
       "2552                 12  \n",
       "2553                 14  \n",
       "2554                  6  \n",
       "2555                 13  \n",
       "2556                  2  \n",
       "2557                  3  \n",
       "2558                  2  \n",
       "2559                  1  \n",
       "2560                  7  \n",
       "2561                  7  \n",
       "2562                  0  \n",
       "2563                  7  \n",
       "2564                  3  \n",
       "\n",
       "[2565 rows x 4 columns]"
      ]
     },
     "execution_count": 172,
     "metadata": {},
     "output_type": "execute_result"
    }
   ],
   "source": [
    "duracao_andamentos"
   ]
  },
  {
   "cell_type": "code",
   "execution_count": 173,
   "metadata": {},
   "outputs": [
    {
     "data": {
      "text/plain": [
       "count    2565.000000\n",
       "mean      575.871735\n",
       "std       662.314236\n",
       "min         0.000000\n",
       "25%        67.000000\n",
       "50%       282.000000\n",
       "75%       891.000000\n",
       "max      2888.000000\n",
       "Name: Duracao (em dias), dtype: float64"
      ]
     },
     "execution_count": 173,
     "metadata": {},
     "output_type": "execute_result"
    }
   ],
   "source": [
    "duracao_andamentos['Duracao (em dias)'].describe()"
   ]
  }
 ],
 "metadata": {
  "kernelspec": {
   "display_name": "Python 3",
   "language": "python",
   "name": "python3"
  },
  "language_info": {
   "codemirror_mode": {
    "name": "ipython",
    "version": 3
   },
   "file_extension": ".py",
   "mimetype": "text/x-python",
   "name": "python",
   "nbconvert_exporter": "python",
   "pygments_lexer": "ipython3",
   "version": "3.6.8"
  }
 },
 "nbformat": 4,
 "nbformat_minor": 2
}
