{
  "nbformat": 4,
  "nbformat_minor": 0,
  "metadata": {
    "colab": {
      "name": "Violencia_Contra_Mulher.ipynb",
      "version": "0.3.2",
      "provenance": [],
      "include_colab_link": true
    },
    "kernelspec": {
      "name": "python3",
      "display_name": "Python 3"
    }
  },
  "cells": [
    {
      "cell_type": "markdown",
      "metadata": {
        "id": "view-in-github",
        "colab_type": "text"
      },
      "source": [
        "<a href=\"https://colab.research.google.com/github/FernandaSzAdr/PyNE_Violencia_Mulher/blob/master/Violencia_Contra_Mulher.ipynb\" target=\"_parent\"><img src=\"https://colab.research.google.com/assets/colab-badge.svg\" alt=\"Open In Colab\"/></a>"
      ]
    },
    {
      "metadata": {
        "id": "4EX26EkTS4fT",
        "colab_type": "code",
        "colab": {
          "base_uri": "https://localhost:8080/",
          "height": 52
        },
        "outputId": "4e17c4d2-bd18-437b-e9c9-10670d6257e0"
      },
      "cell_type": "code",
      "source": [
        "!git clone https://github.com/FernandaSzAdr/PyNE_Violencia_Mulher.git"
      ],
      "execution_count": 2,
      "outputs": [
        {
          "output_type": "stream",
          "text": [
            "Cloning into 'PyNE_Violencia_Mulher'...\n",
            "fatal: could not read Username for 'https://github.com': No such device or address\n"
          ],
          "name": "stdout"
        }
      ]
    },
    {
      "metadata": {
        "id": "JIeKG1TATa-9",
        "colab_type": "text"
      },
      "cell_type": "markdown",
      "source": [
        "## Noticias"
      ]
    },
    {
      "metadata": {
        "id": "tHQrVWS9TeGC",
        "colab_type": "text"
      },
      "cell_type": "markdown",
      "source": [
        "https://www.diariodepernambuco.com.br/app/noticia/brasil/2019/03/11/interna_brasil,780053/crescem-34-processos-de-feminicidio-e-de-violencia-domestica-revela.shtml"
      ]
    }
  ]
}