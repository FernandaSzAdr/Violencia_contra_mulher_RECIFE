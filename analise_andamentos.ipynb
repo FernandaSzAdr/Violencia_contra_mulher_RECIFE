{
 "cells": [
  {
   "cell_type": "markdown",
   "metadata": {},
   "source": [
    "# Imports"
   ]
  },
  {
   "cell_type": "code",
   "execution_count": 1,
   "metadata": {},
   "outputs": [],
   "source": [
    "import pandas as pd\n",
    "import re\n",
    "import spacy\n",
    "from spacy import displacy"
   ]
  },
  {
   "cell_type": "markdown",
   "metadata": {},
   "source": [
    "## Import da base"
   ]
  },
  {
   "cell_type": "code",
   "execution_count": 19,
   "metadata": {},
   "outputs": [],
   "source": [
    "base_ouvidoria = pd.read_json('database/processos_ouvidoria.json')\n",
    "base_sequencial = pd.read_json('database/processos_sequencial.json')"
   ]
  },
  {
   "cell_type": "code",
   "execution_count": 20,
   "metadata": {},
   "outputs": [],
   "source": [
    "base = pd.concat([base_ouvidoria, base_sequencial],ignore_index=True)"
   ]
  },
  {
   "cell_type": "code",
   "execution_count": 21,
   "metadata": {},
   "outputs": [
    {
     "data": {
      "text/html": [
       "<div>\n",
       "<style scoped>\n",
       "    .dataframe tbody tr th:only-of-type {\n",
       "        vertical-align: middle;\n",
       "    }\n",
       "\n",
       "    .dataframe tbody tr th {\n",
       "        vertical-align: top;\n",
       "    }\n",
       "\n",
       "    .dataframe thead th {\n",
       "        text-align: right;\n",
       "    }\n",
       "</style>\n",
       "<table border=\"1\" class=\"dataframe\">\n",
       "  <thead>\n",
       "    <tr style=\"text-align: right;\">\n",
       "      <th></th>\n",
       "      <th>numero</th>\n",
       "      <th>juizo</th>\n",
       "      <th>classe_CNJ</th>\n",
       "      <th>eletronico</th>\n",
       "      <th>comarca</th>\n",
       "      <th>instancia</th>\n",
       "      <th>estado</th>\n",
       "      <th>andamentos_qtd</th>\n",
       "      <th>assuntos</th>\n",
       "      <th>andamentos</th>\n",
       "    </tr>\n",
       "  </thead>\n",
       "  <tbody>\n",
       "    <tr>\n",
       "      <th>0</th>\n",
       "      <td>1774826420128169984</td>\n",
       "      <td>Segunda Vara de Violência Doméstica e Familiar...</td>\n",
       "      <td>Inquérito Policial</td>\n",
       "      <td>False</td>\n",
       "      <td>Recife</td>\n",
       "      <td>1GRAU</td>\n",
       "      <td>PE</td>\n",
       "      <td>4</td>\n",
       "      <td>[Crimes Previstos no Estatuto do Idoso]</td>\n",
       "      <td>[{'complemento': 'Central de Inquéritos', 'dat...</td>\n",
       "    </tr>\n",
       "    <tr>\n",
       "      <th>1</th>\n",
       "      <td>1736234020128169984</td>\n",
       "      <td>Segunda Vara de Violência Doméstica e Familiar...</td>\n",
       "      <td>Inquérito Policial</td>\n",
       "      <td>False</td>\n",
       "      <td>Recife</td>\n",
       "      <td>1GRAU</td>\n",
       "      <td>PE</td>\n",
       "      <td>22</td>\n",
       "      <td>[Crimes Previstos no Estatuto do Idoso]</td>\n",
       "      <td>[{'complemento': 'Central de Inquéritos', 'dat...</td>\n",
       "    </tr>\n",
       "    <tr>\n",
       "      <th>2</th>\n",
       "      <td>1544027620098170112</td>\n",
       "      <td>Terceira Vara de Violência Doméstica e Familia...</td>\n",
       "      <td>Ação Penal - Procedimento Sumário</td>\n",
       "      <td>False</td>\n",
       "      <td>Recife</td>\n",
       "      <td>1GRAU</td>\n",
       "      <td>PE</td>\n",
       "      <td>26</td>\n",
       "      <td>[Decorrente de Violência Doméstica, Violência ...</td>\n",
       "      <td>[{'complemento': '', 'data': '12/09/2018 10:23...</td>\n",
       "    </tr>\n",
       "    <tr>\n",
       "      <th>3</th>\n",
       "      <td>856377720148169984</td>\n",
       "      <td>Terceira Vara de Violência Doméstica e Familia...</td>\n",
       "      <td>Inquérito Policial</td>\n",
       "      <td>False</td>\n",
       "      <td>Recife</td>\n",
       "      <td>1GRAU</td>\n",
       "      <td>PE</td>\n",
       "      <td>14</td>\n",
       "      <td>[Ameaça]</td>\n",
       "      <td>[{'complemento': 'Ministério Público', 'data':...</td>\n",
       "    </tr>\n",
       "    <tr>\n",
       "      <th>4</th>\n",
       "      <td>208506820168170016</td>\n",
       "      <td>Terceira Vara de Violência Doméstica e Familia...</td>\n",
       "      <td>Inquérito Policial</td>\n",
       "      <td>False</td>\n",
       "      <td>Recife</td>\n",
       "      <td>1GRAU</td>\n",
       "      <td>PE</td>\n",
       "      <td>9</td>\n",
       "      <td>[Violência Doméstica Contra a Mulher, Ameaça]</td>\n",
       "      <td>[{'complemento': '', 'data': '20/06/2019 13:21...</td>\n",
       "    </tr>\n",
       "  </tbody>\n",
       "</table>\n",
       "</div>"
      ],
      "text/plain": [
       "                numero                                              juizo  \\\n",
       "0  1774826420128169984  Segunda Vara de Violência Doméstica e Familiar...   \n",
       "1  1736234020128169984  Segunda Vara de Violência Doméstica e Familiar...   \n",
       "2  1544027620098170112  Terceira Vara de Violência Doméstica e Familia...   \n",
       "3   856377720148169984  Terceira Vara de Violência Doméstica e Familia...   \n",
       "4   208506820168170016  Terceira Vara de Violência Doméstica e Familia...   \n",
       "\n",
       "                          classe_CNJ  eletronico comarca instancia estado  \\\n",
       "0                 Inquérito Policial       False  Recife     1GRAU     PE   \n",
       "1                 Inquérito Policial       False  Recife     1GRAU     PE   \n",
       "2  Ação Penal - Procedimento Sumário       False  Recife     1GRAU     PE   \n",
       "3                 Inquérito Policial       False  Recife     1GRAU     PE   \n",
       "4                 Inquérito Policial       False  Recife     1GRAU     PE   \n",
       "\n",
       "   andamentos_qtd                                           assuntos  \\\n",
       "0               4            [Crimes Previstos no Estatuto do Idoso]   \n",
       "1              22            [Crimes Previstos no Estatuto do Idoso]   \n",
       "2              26  [Decorrente de Violência Doméstica, Violência ...   \n",
       "3              14                                           [Ameaça]   \n",
       "4               9      [Violência Doméstica Contra a Mulher, Ameaça]   \n",
       "\n",
       "                                          andamentos  \n",
       "0  [{'complemento': 'Central de Inquéritos', 'dat...  \n",
       "1  [{'complemento': 'Central de Inquéritos', 'dat...  \n",
       "2  [{'complemento': '', 'data': '12/09/2018 10:23...  \n",
       "3  [{'complemento': 'Ministério Público', 'data':...  \n",
       "4  [{'complemento': '', 'data': '20/06/2019 13:21...  "
      ]
     },
     "execution_count": 21,
     "metadata": {},
     "output_type": "execute_result"
    }
   ],
   "source": [
    "base = base.drop_duplicates(subset='numero')\n",
    "\n",
    "base.head()"
   ]
  },
  {
   "cell_type": "code",
   "execution_count": 5,
   "metadata": {},
   "outputs": [
    {
     "name": "stdout",
     "output_type": "stream",
     "text": [
      "<class 'pandas.core.frame.DataFrame'>\n",
      "Int64Index: 13300 entries, 0 to 19216\n",
      "Data columns (total 10 columns):\n",
      "numero            13300 non-null int64\n",
      "juizo             13300 non-null object\n",
      "classe_CNJ        13300 non-null object\n",
      "eletronico        13300 non-null bool\n",
      "comarca           13300 non-null object\n",
      "instancia         13300 non-null object\n",
      "estado            13300 non-null object\n",
      "andamentos_qtd    13300 non-null int64\n",
      "assuntos          13300 non-null object\n",
      "andamentos        13300 non-null object\n",
      "dtypes: bool(1), int64(2), object(7)\n",
      "memory usage: 1.0+ MB\n"
     ]
    }
   ],
   "source": [
    "base.info()"
   ]
  },
  {
   "cell_type": "markdown",
   "metadata": {},
   "source": [
    "## Leitura dos andamentos"
   ]
  },
  {
   "cell_type": "markdown",
   "metadata": {},
   "source": [
    "## OBS\n",
    "\n",
    "- Não podemos remover a data!! precisamos dela para dizer quanto tempo durou o processo"
   ]
  },
  {
   "cell_type": "code",
   "execution_count": 6,
   "metadata": {},
   "outputs": [],
   "source": [
    "def remove_region(ent, text):\n",
    "    old = text[ent.start_char:ent.end_char]\n",
    "    new = []\n",
    "\n",
    "    for word in list(old):\n",
    "        if word != ' ':\n",
    "            new.append('x')\n",
    "        else:\n",
    "            new.append(' ')\n",
    "\n",
    "    new = ''.join(new)\n",
    "\n",
    "    return text.replace(old, new)\\"
   ]
  },
  {
   "cell_type": "code",
   "execution_count": 7,
   "metadata": {},
   "outputs": [
    {
     "data": {
      "text/plain": [
       "13300"
      ]
     },
     "execution_count": 7,
     "metadata": {},
     "output_type": "execute_result"
    }
   ],
   "source": [
    "len(base['andamentos'])"
   ]
  },
  {
   "cell_type": "code",
   "execution_count": 33,
   "metadata": {},
   "outputs": [
    {
     "name": "stderr",
     "output_type": "stream",
     "text": [
      "/home/mufasa/.pyenv/versions/3.7.3/envs/pyne/lib/python3.7/site-packages/ipykernel_launcher.py:29: SettingWithCopyWarning: \n",
      "A value is trying to be set on a copy of a slice from a DataFrame\n",
      "\n",
      "See the caveats in the documentation: http://pandas.pydata.org/pandas-docs/stable/indexing.html#indexing-view-versus-copy\n"
     ]
    }
   ],
   "source": [
    "matchs = ['\\d{1,2}\\/\\d{1,2}\\/\\d{2,4}', '\\d{7}-\\d{2}\\.\\d{4}\\.\\d{1}\\.\\d{2}\\.\\d{4}',\n",
    "          '\\d{1,2}\\.\\d{1,2}\\.\\d{2,4}', '\\d+ de \\w+ de \\d+', '\\d{2,4}:\\d{2,4}:\\d{2,4}']\n",
    "my_model = spacy.load('pt')\n",
    "\n",
    "\n",
    "for i, andamentos in enumerate(base['andamentos'][0:2]):\n",
    "    new_andamentos = []\n",
    "    \n",
    "    for andamento in andamentos:\n",
    "        andamento_aux = {}\n",
    "        \n",
    "        for key in andamento.keys():\n",
    "            text = andamento[key]\n",
    "            \n",
    "            if key != 'data':                \n",
    "                document = my_model(text)\n",
    "\n",
    "                for ent in document.ents:\n",
    "                    if ent.label_ == 'PER' and ent.text.isupper():\n",
    "                        text = remove_region(ent, text)\n",
    "                \n",
    "                for regex in matchs:\n",
    "                    text = re.sub(regex, 'xxxxxxxx', text)\n",
    "                    \n",
    "            andamento_aux[key] = text\n",
    "        \n",
    "        new_andamentos.append(andamento_aux)\n",
    "    \n",
    "    base['andamentos'][i] = new_andamentos\n",
    "    new_andamentos = []"
   ]
  },
  {
   "cell_type": "code",
   "execution_count": 35,
   "metadata": {},
   "outputs": [
    {
     "data": {
      "text/plain": [
       "[{'complemento': 'Central de Inquéritos',\n",
       "  'data': '18/09/2014 14:34:00',\n",
       "  'texto': '',\n",
       "  'titulo': 'Autos entregues em carga ao Central de Inquéritos'},\n",
       " {'complemento': '',\n",
       "  'data': '04/09/2014 10:19:00',\n",
       "  'texto': 'Processo 0xxxxxxxx\\r\\nAcusado: Calos Alberto de Lima Barbosa e Fernando Lúcio de Lima Barbosa\\r\\n\\r\\n           \\r\\n           \\r\\n           \\r\\n           DESPACHO\\r\\n           \\r\\n           \\r\\n           \\r\\n           Em parecer psicológico de fl. 94/95 entendeu-se que fatos narrados no presente processo não tratam de situação relativa a violência ou opressão de gênero e, portanto, fogem da competência deste Juízo. Diante disto a Representante da Promotoria de Justiça requereu a remessa dos autos à Central de Inquéritos do Ministério Público (fl. 97-v).\\r\\n           Desta feita declino da competência e defiro o pedido do Ministério Público de fls. 18 para, de conseguinte, determinar a remessa destes autos à Central de Inquéritos do Ministério Público, após as devidas baixas e anotações.\\r\\n           \\r\\n       \\r\\n       Recife, xxxxxxxx.\\r\\n       \\r\\n       \\r\\n       Maria Margarida de Souza Fonseca\\r\\n       Juíza de Direito \\r\\n       Em exercício cumulativo designada pelo Provimento nº 05/2014 - CGJPE\\r\\n       \\r\\n\\r\\n\\r\\nPODER JUDICIÁRIO DO ESTADO DE PERNAMBUCO\\r\\n2ª Vara de Violência Doméstica e Familiar Contra a Mulher da Capital\\r\\n\\r\\n\\r\\n\\r\\n\\r\\n\\r\\n1',\n",
       "  'titulo': 'Declaração de incompetência'},\n",
       " {'complemento': 'Despacho',\n",
       "  'data': '28/05/2014 16:38:00',\n",
       "  'texto': '',\n",
       "  'titulo': 'Conclusos Partes - Polo 1'},\n",
       " {'complemento': 'Ministério Público',\n",
       "  'data': '28/05/2014 16:37:00',\n",
       "  'texto': '',\n",
       "  'titulo': 'Recebidos os autos Ministério Público'},\n",
       " {'complemento': 'Ministério Público',\n",
       "  'data': '21/05/2014 14:31:00',\n",
       "  'texto': '',\n",
       "  'titulo': 'Autos entregues em carga ao Ministério Público'},\n",
       " {'complemento': '',\n",
       "  'data': '14/05/2014 16:21:00',\n",
       "  'texto': 'PODER JUDICIÁRIO DO ESTADO DE PERNAMBUCO \\r\\n2ª Vara Juizado de Violência Doméstica e Familiar Contra a Mulher\\r\\nRua Dom Manoel Pereira, nº 170 - Santo Amaro - Recife/PE\\r\\nFone: (81) 3231.1493 - E-Mail: vmulher02.recife@tjpe.jus.br          \\r\\n      \\r\\n      \\r\\n      \\r\\n      DESPACHO                                                                                                                             \\r\\n      \\r\\n      Vistos.\\r\\n      \\r\\n      Tendo em vista a juntada do laudo social e do parecer psicológico, dê-se vista ao Ministério Público.\\r\\n      Após, voltem-me os autos conclusos.\\r\\n      Recife, xxxxxxxx.\\r\\n\\t         \\r\\n\\r\\n          Marylúsia Pereira Feitosa Dias de Araújo\\r\\n          Juíza de Direito Titular\\r\\n      \\r\\n                                                            Nesta data recebi os presentes\\r\\n                                                            autos da MM. Juíza de Direito.\\r\\n                                                            Recife,   \\r\\n                                                            __________________________\\r\\n                                                            Chefe de Secretaria',\n",
       "  'titulo': 'Concessão de vista dos autos'},\n",
       " {'complemento': 'Despacho',\n",
       "  'data': '16/04/2014 18:48:00',\n",
       "  'texto': '',\n",
       "  'titulo': 'Conclusos Partes - Polo 1'},\n",
       " {'complemento': 'Laudo Técnico',\n",
       "  'data': '16/04/2014 18:45:00',\n",
       "  'texto': '',\n",
       "  'titulo': 'Juntada de Laudo Técnico'},\n",
       " {'complemento': 'Psicossocial',\n",
       "  'data': '16/04/2014 18:42:00',\n",
       "  'texto': '',\n",
       "  'titulo': 'Recebidos os autos Psicossocial'},\n",
       " {'complemento': 'Psicossocial',\n",
       "  'data': '15/04/2014 19:43:00',\n",
       "  'texto': '',\n",
       "  'titulo': 'Remessa Carga'},\n",
       " {'complemento': '',\n",
       "  'data': '11/04/2014 18:35:00',\n",
       "  'texto': 'PODER JUDICIÁRIO DO ESTADO DE PERNAMBUCO \\r\\n2ª Vara de Violência Doméstica e Familiar Contra a Mulher\\r\\nRua Dom Manoel Pereira, nº 170 - Santo Amaro - Recife/PE\\r\\nFone: (81) 3231.1493 - E-Mail: vmulher02.recife@tjpe.jus.br\\r\\n\\r\\n\\r\\nDESPACHO:\\r\\n                     \\r\\n            Vistos.\\r\\n            Defiro o pedido de fls. 87, ao tempo em que concedo mais 30 (trinta) dias para que o setor psicossocial conclua o parecer técnico requisitado às fls. 86.\\r\\n            Cumpra-se com as cautelas de estilo.\\r\\n            Recife, xxxxxxxx.\\r\\n            \\r\\n            Roberta Viana Jardim \\r\\n                   Juíza de Direito\\r\\n            \\r\\n\\r\\nNesta data recebi os presentes autos\\r\\nda MM. Juíza de Direito.\\r\\nRecife,\\r\\n____________________\\r\\nChefe de Secretaria',\n",
       "  'titulo': 'Determinação de cumprimento de atos processuais pela Secretaria'},\n",
       " {'complemento': 'Despacho',\n",
       "  'data': '07/01/2014 14:03:00',\n",
       "  'texto': '',\n",
       "  'titulo': 'Conclusos Partes - Polo 1'},\n",
       " {'complemento': '',\n",
       "  'data': '07/01/2014 14:00:00',\n",
       "  'texto': '',\n",
       "  'titulo': 'Juntada de'},\n",
       " {'complemento': 'Psicossocial',\n",
       "  'data': '07/01/2014 13:43:00',\n",
       "  'texto': '',\n",
       "  'titulo': 'Recebidos os autos Psicossocial'},\n",
       " {'complemento': 'Psicossocial',\n",
       "  'data': '19/12/2013 23:30:00',\n",
       "  'texto': '',\n",
       "  'titulo': 'Remessa Carga'},\n",
       " {'complemento': '',\n",
       "  'data': '17/12/2013 15:20:00',\n",
       "  'texto': 'Processo nº 0xxxxxxxx\\r\\n\\r\\nDESPACHO:\\r\\n\\r\\n\\r\\n\\tAntes de apreciar o pedido liminar, determino que a Equipe Multidisciplinar desta Vara, realize entrevista com os envolvidos, devendo apresentar parecer psicossocial no prazo máximo de 30 (trinta) dias, esclarecendo se o fato praticado tem como base a  questão de gênero.\\r\\n\\r\\n\\tCumpra-se.\\r\\n\\r\\n\\tRecife, xxxxxxxx.\\r\\n\\r\\n\\r\\n\\tRoberta Viana Jardim\\r\\n\\t      Juíza de Direito\\r\\n\\r\\nNesta data recebi os presentes \\r\\nautos da MM. Juíza de Direito.\\r\\n\\r\\nRecife, \\r\\n\\r\\n_________________________\\r\\n        Chefe de Secretaria\\r\\n\\r\\n??\\r\\n\\r\\n??\\r\\n\\r\\n??\\r\\n\\r\\n??\\r\\n\\r\\n\\r\\n\\r\\n\\r\\n\\r\\n\\r\\n2º Vara de Violência Doméstica e Familiar Contra a Mulher',\n",
       "  'titulo': 'Determinação de cumprimento de atos processuais pela Secretaria'},\n",
       " {'complemento': 'Despacho',\n",
       "  'data': '05/12/2012 16:37:00',\n",
       "  'texto': '',\n",
       "  'titulo': 'Conclusos Partes - Polo 1'},\n",
       " {'complemento': 'Segunda Vara de Violência Doméstica e Familiar contra a Mulher na Comarca da Capital',\n",
       "  'data': '24/10/2012 09:48:00',\n",
       "  'texto': '',\n",
       "  'titulo': 'Redistribuído por Média'},\n",
       " {'complemento': 'Primeiro Distribuidor - Recife',\n",
       "  'data': '23/10/2012 17:00:00',\n",
       "  'texto': '',\n",
       "  'titulo': 'Remessa'},\n",
       " {'complemento': '',\n",
       "  'data': '15/10/2012 14:38:00',\n",
       "  'texto': 'PROCESSO Nº xxxxxxxx\\r\\n\\r\\n\\r\\nDESPACHO\\r\\n\\r\\nRemeta os presentes autos para o 1º Distribuidor da Capital para cumprir o despacho de fl. 82, endereçando os autos para o Juizado de Violência Doméstica e Familiar contra a Mulher.\\r\\nCumpra-se.\\r\\nRecife, xxxxxxxx.\\r\\n\\r\\n\\r\\nJosé Anchieta Félix da Silva\\r\\nJuiz de Direito',\n",
       "  'titulo': 'Proferido despacho de mero expediente'},\n",
       " {'complemento': 'Despacho',\n",
       "  'data': '01/10/2012 17:16:00',\n",
       "  'texto': '',\n",
       "  'titulo': 'Conclusos Partes - Polo 1'},\n",
       " {'complemento': 'Décima Primeira Vara Criminal da Capital',\n",
       "  'data': '27/09/2012 09:50:00',\n",
       "  'texto': '',\n",
       "  'titulo': 'Distribuído por'}]"
      ]
     },
     "execution_count": 35,
     "metadata": {},
     "output_type": "execute_result"
    }
   ],
   "source": [
    "base['andamentos'][1]"
   ]
  },
  {
   "cell_type": "code",
   "execution_count": null,
   "metadata": {},
   "outputs": [],
   "source": []
  }
 ],
 "metadata": {
  "kernelspec": {
   "display_name": "Python 3",
   "language": "python",
   "name": "python3"
  },
  "language_info": {
   "codemirror_mode": {
    "name": "ipython",
    "version": 3
   },
   "file_extension": ".py",
   "mimetype": "text/x-python",
   "name": "python",
   "nbconvert_exporter": "python",
   "pygments_lexer": "ipython3",
   "version": "3.7.3"
  }
 },
 "nbformat": 4,
 "nbformat_minor": 2
}
